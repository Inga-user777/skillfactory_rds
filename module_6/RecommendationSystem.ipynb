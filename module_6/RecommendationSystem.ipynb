{
 "cells": [
  {
   "cell_type": "markdown",
   "metadata": {},
   "source": [
    "## Область подключения модулей и написания функций"
   ]
  },
  {
   "cell_type": "code",
   "execution_count": 1,
   "metadata": {},
   "outputs": [
    {
     "data": {
      "text/html": [
       "<style>.container { width:95% !important; }</style>"
      ],
      "text/plain": [
       "<IPython.core.display.HTML object>"
      ]
     },
     "metadata": {},
     "output_type": "display_data"
    }
   ],
   "source": [
    "from IPython.core.display import display, HTML\n",
    "display(HTML(\"<style>.container { width:95% !important; }</style>\"))"
   ]
  },
  {
   "cell_type": "code",
   "execution_count": 2,
   "metadata": {},
   "outputs": [],
   "source": [
    "#Импорт библиотек\n",
    "import warnings\n",
    "warnings.simplefilter('ignore')"
   ]
  },
  {
   "cell_type": "code",
   "execution_count": 3,
   "metadata": {},
   "outputs": [],
   "source": [
    "import numpy as np # linear algebra\n",
    "import pandas as pd # data processing, CSV file I/O (e.g. pd.read_csv)\n",
    "import sys\n",
    "from collections import Counter\n",
    "import json\n",
    "import re\n",
    "import matplotlib.pyplot as plt\n",
    "import seaborn as sns\n",
    "from itertools import combinations\n",
    "from scipy.stats import ttest_ind\n",
    "\n",
    "import scipy.sparse as sparse\n",
    "\n",
    "from lightfm import LightFM\n",
    "from lightfm.cross_validation import random_train_test_split\n",
    "from lightfm.evaluation import auc_score, precision_at_k, recall_at_k\n",
    "import sklearn\n",
    "from sklearn.model_selection import train_test_split"
   ]
  },
  {
   "cell_type": "code",
   "execution_count": 4,
   "metadata": {},
   "outputs": [],
   "source": [
    "pd.set_option('display.max_columns', None)"
   ]
  },
  {
   "cell_type": "code",
   "execution_count": 5,
   "metadata": {},
   "outputs": [],
   "source": [
    "# Функция без гистограммы\n",
    "def col_info(ys):\n",
    "    print('Количество пропусков: {},'.format(ys.isnull().sum()))\n",
    "    print('{},'.format(ys.describe()))\n",
    "    print('Распределение:\\n{},'.format(ys.value_counts()))\n",
    "\n",
    "# Функция с гистограммой\n",
    "def col_info_hist(ys):\n",
    "    print('Количество пропусков: {},'.format(ys.isnull().sum()))\n",
    "    print('{},'.format(ys.describe()))\n",
    "    print('Распределение:\\n{},'.format(ys.value_counts()))\n",
    "    ys.hist()\n",
    "    \n",
    "    \n",
    "def get_boxplot(column):\n",
    "    fig, ax = plt.subplots(figsize = (14, 4))\n",
    "    sns.boxplot(x=column, y='overall', \n",
    "                data=df.loc[df.loc[:, column].isin(df.loc[:, column].value_counts().index[:10])],\n",
    "               ax=ax)\n",
    "    plt.xticks(rotation=45)\n",
    "    ax.set_title('Boxplot for ' + column)\n",
    "    plt.show()"
   ]
  },
  {
   "cell_type": "markdown",
   "metadata": {},
   "source": [
    "## Подключение датасетов"
   ]
  },
  {
   "cell_type": "code",
   "execution_count": 6,
   "metadata": {},
   "outputs": [
    {
     "name": "stdout",
     "output_type": "stream",
     "text": [
      "input/meta_Grocery_and_Gourmet_Food.json\n",
      "input/sample_submission.csv\n",
      "input/test.csv\n",
      "input/train.csv\n"
     ]
    }
   ],
   "source": [
    "#Jupyter\n",
    "DIR = 'input/'\n",
    "\n",
    "#Kaggle\n",
    "#DIR = '/kaggle/input/recommendationsv4/'\n",
    "\n",
    "import os\n",
    "for dirname, _, filenames in os.walk(DIR):\n",
    "    for filename in filenames:\n",
    "        print(os.path.join(dirname, filename))"
   ]
  },
  {
   "cell_type": "code",
   "execution_count": 7,
   "metadata": {},
   "outputs": [],
   "source": [
    "train = pd.read_csv(DIR+'train.csv')\n",
    "test = pd.read_csv(DIR+'test.csv')\n",
    "submission = pd.read_csv(DIR+'sample_submission.csv')"
   ]
  },
  {
   "cell_type": "markdown",
   "metadata": {},
   "source": [
    "## Создание датасета из .json файла"
   ]
  },
  {
   "cell_type": "markdown",
   "metadata": {},
   "source": [
    "Сконвертируем и посмотрим, какие данные находятся в json файле."
   ]
  },
  {
   "cell_type": "code",
   "execution_count": 8,
   "metadata": {},
   "outputs": [],
   "source": [
    "# Постройчно прочитаем json с метаданными и положим результат в датасет \"meta\"\n",
    "with open(DIR+'meta_Grocery_and_Gourmet_Food.json') as f:\n",
    "    meta_list = []\n",
    "    for line in f.readlines():\n",
    "        meta_list.append(json.loads(line))\n",
    "        \n",
    "meta = pd.DataFrame(meta_list)"
   ]
  },
  {
   "cell_type": "code",
   "execution_count": 9,
   "metadata": {},
   "outputs": [
    {
     "name": "stdout",
     "output_type": "stream",
     "text": [
      "<class 'pandas.core.frame.DataFrame'>\n",
      "RangeIndex: 287209 entries, 0 to 287208\n",
      "Data columns (total 17 columns):\n",
      " #   Column        Non-Null Count   Dtype \n",
      "---  ------        --------------   ----- \n",
      " 0   category      287209 non-null  object\n",
      " 1   description   251802 non-null  object\n",
      " 2   title         287205 non-null  object\n",
      " 3   brand         275787 non-null  object\n",
      " 4   rank          275494 non-null  object\n",
      " 5   also_view     121012 non-null  object\n",
      " 6   main_cat      285716 non-null  object\n",
      " 7   price         132136 non-null  object\n",
      " 8   asin          287209 non-null  object\n",
      " 9   also_buy      83332 non-null   object\n",
      " 10  image         150214 non-null  object\n",
      " 11  date          9663 non-null    object\n",
      " 12  feature       16374 non-null   object\n",
      " 13  details       273323 non-null  object\n",
      " 14  similar_item  256 non-null     object\n",
      " 15  tech1         744 non-null     object\n",
      " 16  fit           4 non-null       object\n",
      "dtypes: object(17)\n",
      "memory usage: 37.3+ MB\n"
     ]
    }
   ],
   "source": [
    "meta.info()"
   ]
  },
  {
   "cell_type": "markdown",
   "metadata": {},
   "source": [
    "Судя по всему, перед нами датасет с разными типами продуктов - их стоимостью, категориями, описанием, и.т.д."
   ]
  },
  {
   "cell_type": "markdown",
   "metadata": {},
   "source": [
    "## Оценка наборов данных"
   ]
  },
  {
   "cell_type": "code",
   "execution_count": 10,
   "metadata": {},
   "outputs": [
    {
     "data": {
      "text/html": [
       "<div>\n",
       "<style scoped>\n",
       "    .dataframe tbody tr th:only-of-type {\n",
       "        vertical-align: middle;\n",
       "    }\n",
       "\n",
       "    .dataframe tbody tr th {\n",
       "        vertical-align: top;\n",
       "    }\n",
       "\n",
       "    .dataframe thead th {\n",
       "        text-align: right;\n",
       "    }\n",
       "</style>\n",
       "<table border=\"1\" class=\"dataframe\">\n",
       "  <thead>\n",
       "    <tr style=\"text-align: right;\">\n",
       "      <th></th>\n",
       "      <th>overall</th>\n",
       "      <th>verified</th>\n",
       "      <th>reviewTime</th>\n",
       "      <th>asin</th>\n",
       "      <th>reviewerName</th>\n",
       "      <th>reviewText</th>\n",
       "      <th>summary</th>\n",
       "      <th>unixReviewTime</th>\n",
       "      <th>vote</th>\n",
       "      <th>style</th>\n",
       "      <th>image</th>\n",
       "      <th>userid</th>\n",
       "      <th>itemid</th>\n",
       "      <th>rating</th>\n",
       "    </tr>\n",
       "  </thead>\n",
       "  <tbody>\n",
       "    <tr>\n",
       "      <th>511409</th>\n",
       "      <td>5.0</td>\n",
       "      <td>True</td>\n",
       "      <td>09 9, 2017</td>\n",
       "      <td>B0085IFB62</td>\n",
       "      <td>Oregon Raven</td>\n",
       "      <td>This corn pops well, and tastes good.  I think...</td>\n",
       "      <td>Nice Popcorn</td>\n",
       "      <td>1504915200</td>\n",
       "      <td>NaN</td>\n",
       "      <td>NaN</td>\n",
       "      <td>NaN</td>\n",
       "      <td>36169</td>\n",
       "      <td>19165</td>\n",
       "      <td>1.0</td>\n",
       "    </tr>\n",
       "    <tr>\n",
       "      <th>748739</th>\n",
       "      <td>3.0</td>\n",
       "      <td>True</td>\n",
       "      <td>03 21, 2016</td>\n",
       "      <td>B008YYA0NG</td>\n",
       "      <td>Amazon Customer</td>\n",
       "      <td>The flavor was great.  The only reason for 3 s...</td>\n",
       "      <td>Taste great!  Beware of oil spills.</td>\n",
       "      <td>1458518400</td>\n",
       "      <td>NaN</td>\n",
       "      <td>{'Size:': ' 10 pouches'}</td>\n",
       "      <td>NaN</td>\n",
       "      <td>81038</td>\n",
       "      <td>19548</td>\n",
       "      <td>0.0</td>\n",
       "    </tr>\n",
       "    <tr>\n",
       "      <th>122716</th>\n",
       "      <td>5.0</td>\n",
       "      <td>True</td>\n",
       "      <td>12 29, 2012</td>\n",
       "      <td>B001V76MFS</td>\n",
       "      <td>Shemekisa Jobe</td>\n",
       "      <td>i just got my item and i love it i will be get...</td>\n",
       "      <td>great</td>\n",
       "      <td>1356739200</td>\n",
       "      <td>NaN</td>\n",
       "      <td>{'Size:': ' 36 Count', 'Flavor:': ' Pringles V...</td>\n",
       "      <td>NaN</td>\n",
       "      <td>3819</td>\n",
       "      <td>9795</td>\n",
       "      <td>1.0</td>\n",
       "    </tr>\n",
       "    <tr>\n",
       "      <th>833263</th>\n",
       "      <td>5.0</td>\n",
       "      <td>True</td>\n",
       "      <td>03 29, 2013</td>\n",
       "      <td>B0019LPM0C</td>\n",
       "      <td>Ralph</td>\n",
       "      <td>Such a perfect sweetener!  I love sweets, but ...</td>\n",
       "      <td>I love stevia!</td>\n",
       "      <td>1364515200</td>\n",
       "      <td>NaN</td>\n",
       "      <td>{'Size:': ' 1 oz'}</td>\n",
       "      <td>NaN</td>\n",
       "      <td>41918</td>\n",
       "      <td>6833</td>\n",
       "      <td>1.0</td>\n",
       "    </tr>\n",
       "    <tr>\n",
       "      <th>686364</th>\n",
       "      <td>5.0</td>\n",
       "      <td>True</td>\n",
       "      <td>09 17, 2017</td>\n",
       "      <td>B013KUW2XE</td>\n",
       "      <td>joan pascale</td>\n",
       "      <td>sent to Houston Texas and got there in 3 days....</td>\n",
       "      <td>Five Stars</td>\n",
       "      <td>1505606400</td>\n",
       "      <td>NaN</td>\n",
       "      <td>{'Size:': ' Care Package 30 Count'}</td>\n",
       "      <td>NaN</td>\n",
       "      <td>23021</td>\n",
       "      <td>34962</td>\n",
       "      <td>1.0</td>\n",
       "    </tr>\n",
       "  </tbody>\n",
       "</table>\n",
       "</div>"
      ],
      "text/plain": [
       "        overall  verified   reviewTime        asin     reviewerName  \\\n",
       "511409      5.0      True   09 9, 2017  B0085IFB62     Oregon Raven   \n",
       "748739      3.0      True  03 21, 2016  B008YYA0NG  Amazon Customer   \n",
       "122716      5.0      True  12 29, 2012  B001V76MFS   Shemekisa Jobe   \n",
       "833263      5.0      True  03 29, 2013  B0019LPM0C            Ralph   \n",
       "686364      5.0      True  09 17, 2017  B013KUW2XE     joan pascale   \n",
       "\n",
       "                                               reviewText  \\\n",
       "511409  This corn pops well, and tastes good.  I think...   \n",
       "748739  The flavor was great.  The only reason for 3 s...   \n",
       "122716  i just got my item and i love it i will be get...   \n",
       "833263  Such a perfect sweetener!  I love sweets, but ...   \n",
       "686364  sent to Houston Texas and got there in 3 days....   \n",
       "\n",
       "                                    summary  unixReviewTime vote  \\\n",
       "511409                         Nice Popcorn      1504915200  NaN   \n",
       "748739  Taste great!  Beware of oil spills.      1458518400  NaN   \n",
       "122716                                great      1356739200  NaN   \n",
       "833263                       I love stevia!      1364515200  NaN   \n",
       "686364                           Five Stars      1505606400  NaN   \n",
       "\n",
       "                                                    style image  userid  \\\n",
       "511409                                                NaN   NaN   36169   \n",
       "748739                           {'Size:': ' 10 pouches'}   NaN   81038   \n",
       "122716  {'Size:': ' 36 Count', 'Flavor:': ' Pringles V...   NaN    3819   \n",
       "833263                                 {'Size:': ' 1 oz'}   NaN   41918   \n",
       "686364                {'Size:': ' Care Package 30 Count'}   NaN   23021   \n",
       "\n",
       "        itemid  rating  \n",
       "511409   19165     1.0  \n",
       "748739   19548     0.0  \n",
       "122716    9795     1.0  \n",
       "833263    6833     1.0  \n",
       "686364   34962     1.0  "
      ]
     },
     "execution_count": 10,
     "metadata": {},
     "output_type": "execute_result"
    }
   ],
   "source": [
    "train.sample(5)"
   ]
  },
  {
   "cell_type": "code",
   "execution_count": 11,
   "metadata": {},
   "outputs": [
    {
     "name": "stdout",
     "output_type": "stream",
     "text": [
      "<class 'pandas.core.frame.DataFrame'>\n",
      "RangeIndex: 857895 entries, 0 to 857894\n",
      "Data columns (total 14 columns):\n",
      " #   Column          Non-Null Count   Dtype  \n",
      "---  ------          --------------   -----  \n",
      " 0   overall         857895 non-null  float64\n",
      " 1   verified        857895 non-null  bool   \n",
      " 2   reviewTime      857895 non-null  object \n",
      " 3   asin            857895 non-null  object \n",
      " 4   reviewerName    857719 non-null  object \n",
      " 5   reviewText      857616 non-null  object \n",
      " 6   summary         857725 non-null  object \n",
      " 7   unixReviewTime  857895 non-null  int64  \n",
      " 8   vote            118740 non-null  object \n",
      " 9   style           444406 non-null  object \n",
      " 10  image           7142 non-null    object \n",
      " 11  userid          857895 non-null  int64  \n",
      " 12  itemid          857895 non-null  int64  \n",
      " 13  rating          857895 non-null  float64\n",
      "dtypes: bool(1), float64(2), int64(3), object(8)\n",
      "memory usage: 85.9+ MB\n"
     ]
    }
   ],
   "source": [
    "train.info()"
   ]
  },
  {
   "cell_type": "markdown",
   "metadata": {},
   "source": [
    "Тренировочный представляет собой список отзывов покупателей о товаре. Приведены (по порядку):\n",
    "\n",
    "* overall - Общая оценка. Пропуски отсутствуют.\n",
    "* verified - Был ли отзыв подтвержден. Пропуски отсутствуют (проверим это потом отдельно для столбцов, чтобы быть точно уверенными).\n",
    "* reviewTime - Время написания отзыва\n",
    "* asin - индивидуальный номер каждого товара, судя по всему может использоваться для идентификации товара и установления связи между датасетами\n",
    "* reviewerName - ...и имя пользователя, оставившего отзыв\n",
    "* reviewText - Текст отзыва, который может быть использован для получения дополнительных данных\n",
    "* summary - Суть отзыва\n",
    "* unixReviewTime - Время написания отзыва\n",
    "* vote - Количество голосов\n",
    "* style - Данные, связанные с товаром\n",
    "* image - Изображение продукта в виде ссылки\n",
    "* userid - id пользователя\n",
    "* itemid - id товара\n",
    "* rating - рейтинг товара\n",
    "\n",
    "Отметим, что полностью заполнены только первые четыре и последние три поля. Все остальные, в особенности image и style, содержат пропуски в том или ином количестве."
   ]
  },
  {
   "cell_type": "markdown",
   "metadata": {},
   "source": [
    "Посмотрим на тестовый датасет:"
   ]
  },
  {
   "cell_type": "code",
   "execution_count": 12,
   "metadata": {},
   "outputs": [
    {
     "data": {
      "text/html": [
       "<div>\n",
       "<style scoped>\n",
       "    .dataframe tbody tr th:only-of-type {\n",
       "        vertical-align: middle;\n",
       "    }\n",
       "\n",
       "    .dataframe tbody tr th {\n",
       "        vertical-align: top;\n",
       "    }\n",
       "\n",
       "    .dataframe thead th {\n",
       "        text-align: right;\n",
       "    }\n",
       "</style>\n",
       "<table border=\"1\" class=\"dataframe\">\n",
       "  <thead>\n",
       "    <tr style=\"text-align: right;\">\n",
       "      <th></th>\n",
       "      <th>verified</th>\n",
       "      <th>reviewTime</th>\n",
       "      <th>asin</th>\n",
       "      <th>reviewerName</th>\n",
       "      <th>unixReviewTime</th>\n",
       "      <th>vote</th>\n",
       "      <th>style</th>\n",
       "      <th>image</th>\n",
       "      <th>userid</th>\n",
       "      <th>itemid</th>\n",
       "      <th>Id</th>\n",
       "    </tr>\n",
       "  </thead>\n",
       "  <tbody>\n",
       "    <tr>\n",
       "      <th>183613</th>\n",
       "      <td>True</td>\n",
       "      <td>11 7, 2014</td>\n",
       "      <td>B00KSN9TME</td>\n",
       "      <td>Anna B</td>\n",
       "      <td>1415318400</td>\n",
       "      <td>NaN</td>\n",
       "      <td>NaN</td>\n",
       "      <td>NaN</td>\n",
       "      <td>50666</td>\n",
       "      <td>29237</td>\n",
       "      <td>183613</td>\n",
       "    </tr>\n",
       "    <tr>\n",
       "      <th>23942</th>\n",
       "      <td>True</td>\n",
       "      <td>03 3, 2018</td>\n",
       "      <td>B01CP2ID7C</td>\n",
       "      <td>Cody Pudlish</td>\n",
       "      <td>1520035200</td>\n",
       "      <td>NaN</td>\n",
       "      <td>{'Size:': ' 2 Ounce', 'Flavor:': ' Maple'}</td>\n",
       "      <td>NaN</td>\n",
       "      <td>118387</td>\n",
       "      <td>37136</td>\n",
       "      <td>23942</td>\n",
       "    </tr>\n",
       "    <tr>\n",
       "      <th>241203</th>\n",
       "      <td>True</td>\n",
       "      <td>06 5, 2017</td>\n",
       "      <td>B00LNXOTDW</td>\n",
       "      <td>mz rose</td>\n",
       "      <td>1496620800</td>\n",
       "      <td>2</td>\n",
       "      <td>{'Size:': ' 2lb'}</td>\n",
       "      <td>NaN</td>\n",
       "      <td>100688</td>\n",
       "      <td>29631</td>\n",
       "      <td>241203</td>\n",
       "    </tr>\n",
       "    <tr>\n",
       "      <th>139819</th>\n",
       "      <td>False</td>\n",
       "      <td>04 26, 2017</td>\n",
       "      <td>B0011CX1SE</td>\n",
       "      <td>Anonimo</td>\n",
       "      <td>1493164800</td>\n",
       "      <td>NaN</td>\n",
       "      <td>{'Size:': ' One 8 oz Spicy'}</td>\n",
       "      <td>NaN</td>\n",
       "      <td>85431</td>\n",
       "      <td>5652</td>\n",
       "      <td>139819</td>\n",
       "    </tr>\n",
       "    <tr>\n",
       "      <th>252137</th>\n",
       "      <td>True</td>\n",
       "      <td>11 20, 2016</td>\n",
       "      <td>B001U7TX0K</td>\n",
       "      <td>Sherry L. Scott</td>\n",
       "      <td>1479600000</td>\n",
       "      <td>NaN</td>\n",
       "      <td>NaN</td>\n",
       "      <td>NaN</td>\n",
       "      <td>103131</td>\n",
       "      <td>9740</td>\n",
       "      <td>252137</td>\n",
       "    </tr>\n",
       "  </tbody>\n",
       "</table>\n",
       "</div>"
      ],
      "text/plain": [
       "        verified   reviewTime        asin     reviewerName  unixReviewTime  \\\n",
       "183613      True   11 7, 2014  B00KSN9TME           Anna B      1415318400   \n",
       "23942       True   03 3, 2018  B01CP2ID7C     Cody Pudlish      1520035200   \n",
       "241203      True   06 5, 2017  B00LNXOTDW          mz rose      1496620800   \n",
       "139819     False  04 26, 2017  B0011CX1SE          Anonimo      1493164800   \n",
       "252137      True  11 20, 2016  B001U7TX0K  Sherry L. Scott      1479600000   \n",
       "\n",
       "       vote                                       style image  userid  itemid  \\\n",
       "183613  NaN                                         NaN   NaN   50666   29237   \n",
       "23942   NaN  {'Size:': ' 2 Ounce', 'Flavor:': ' Maple'}   NaN  118387   37136   \n",
       "241203    2                           {'Size:': ' 2lb'}   NaN  100688   29631   \n",
       "139819  NaN                {'Size:': ' One 8 oz Spicy'}   NaN   85431    5652   \n",
       "252137  NaN                                         NaN   NaN  103131    9740   \n",
       "\n",
       "            Id  \n",
       "183613  183613  \n",
       "23942    23942  \n",
       "241203  241203  \n",
       "139819  139819  \n",
       "252137  252137  "
      ]
     },
     "execution_count": 12,
     "metadata": {},
     "output_type": "execute_result"
    }
   ],
   "source": [
    "test.sample(5)"
   ]
  },
  {
   "cell_type": "code",
   "execution_count": 13,
   "metadata": {},
   "outputs": [
    {
     "name": "stdout",
     "output_type": "stream",
     "text": [
      "<class 'pandas.core.frame.DataFrame'>\n",
      "RangeIndex: 285965 entries, 0 to 285964\n",
      "Data columns (total 11 columns):\n",
      " #   Column          Non-Null Count   Dtype \n",
      "---  ------          --------------   ----- \n",
      " 0   verified        285965 non-null  bool  \n",
      " 1   reviewTime      285965 non-null  object\n",
      " 2   asin            285965 non-null  object\n",
      " 3   reviewerName    285918 non-null  object\n",
      " 4   unixReviewTime  285965 non-null  int64 \n",
      " 5   vote            39462 non-null   object\n",
      " 6   style           147680 non-null  object\n",
      " 7   image           2368 non-null    object\n",
      " 8   userid          285965 non-null  int64 \n",
      " 9   itemid          285965 non-null  int64 \n",
      " 10  Id              285965 non-null  int64 \n",
      "dtypes: bool(1), int64(4), object(6)\n",
      "memory usage: 22.1+ MB\n"
     ]
    }
   ],
   "source": [
    "test.info()"
   ]
  },
  {
   "cell_type": "markdown",
   "metadata": {},
   "source": [
    "Видим, что в тренировочном датасете на 4 столбца больше:\n",
    "\n",
    "* overall - оценка по пятибальной шкале присутствует;\n",
    "* reviewText - текст отзыва присутствует;\n",
    "* summary - краткое содержание отзыва;\n",
    "* rating - целевая переманная\n",
    "\n",
    "отсутствует Id"
   ]
  },
  {
   "cell_type": "markdown",
   "metadata": {},
   "source": [
    "Посмотрим на meta"
   ]
  },
  {
   "cell_type": "code",
   "execution_count": 14,
   "metadata": {},
   "outputs": [
    {
     "data": {
      "text/html": [
       "<div>\n",
       "<style scoped>\n",
       "    .dataframe tbody tr th:only-of-type {\n",
       "        vertical-align: middle;\n",
       "    }\n",
       "\n",
       "    .dataframe tbody tr th {\n",
       "        vertical-align: top;\n",
       "    }\n",
       "\n",
       "    .dataframe thead th {\n",
       "        text-align: right;\n",
       "    }\n",
       "</style>\n",
       "<table border=\"1\" class=\"dataframe\">\n",
       "  <thead>\n",
       "    <tr style=\"text-align: right;\">\n",
       "      <th></th>\n",
       "      <th>category</th>\n",
       "      <th>description</th>\n",
       "      <th>title</th>\n",
       "      <th>brand</th>\n",
       "      <th>rank</th>\n",
       "      <th>also_view</th>\n",
       "      <th>main_cat</th>\n",
       "      <th>price</th>\n",
       "      <th>asin</th>\n",
       "      <th>also_buy</th>\n",
       "      <th>image</th>\n",
       "      <th>date</th>\n",
       "      <th>feature</th>\n",
       "      <th>details</th>\n",
       "      <th>similar_item</th>\n",
       "      <th>tech1</th>\n",
       "      <th>fit</th>\n",
       "    </tr>\n",
       "  </thead>\n",
       "  <tbody>\n",
       "    <tr>\n",
       "      <th>126708</th>\n",
       "      <td>[Grocery &amp; Gourmet Food, Beverages, Coffee, Te...</td>\n",
       "      <td>[More in ordinary instant coffee! This is the ...</td>\n",
       "      <td>Kopiko Instant 3 in 1 Brown Coffee - 30 Packet...</td>\n",
       "      <td>Kopiko</td>\n",
       "      <td>17,189inGroceryGourmetFood(</td>\n",
       "      <td>NaN</td>\n",
       "      <td>Grocery</td>\n",
       "      <td>$11.80</td>\n",
       "      <td>B00ANR3Z5W</td>\n",
       "      <td>[B008532DLS, B07BD3CK4F, B073SH9V1R, B01H7OMLV...</td>\n",
       "      <td>[https://images-na.ssl-images-amazon.com/image...</td>\n",
       "      <td>NaN</td>\n",
       "      <td>NaN</td>\n",
       "      <td>\\n\\n\\n\\n\\n\\n    &lt;div class=\"disclaim\"&gt;Flavor: ...</td>\n",
       "      <td>NaN</td>\n",
       "      <td>NaN</td>\n",
       "      <td>NaN</td>\n",
       "    </tr>\n",
       "    <tr>\n",
       "      <th>134819</th>\n",
       "      <td>[Grocery &amp; Gourmet Food, Candy &amp; Chocolate, Ch...</td>\n",
       "      <td>[Suitable for vegetarians French Cocoa Dusted ...</td>\n",
       "      <td>Monty Bojangles French Cocoa Dusted Truffles W...</td>\n",
       "      <td>Monty Bojangles</td>\n",
       "      <td>1,400,414inGroceryGourmetFood(</td>\n",
       "      <td>NaN</td>\n",
       "      <td>Grocery</td>\n",
       "      <td>NaN</td>\n",
       "      <td>B00BHFDIWY</td>\n",
       "      <td>NaN</td>\n",
       "      <td>NaN</td>\n",
       "      <td>NaN</td>\n",
       "      <td>NaN</td>\n",
       "      <td>\\n      &lt;div class=\"content\"&gt;\\n\\n\\n\\n\\n\\n\\n&lt;ul...</td>\n",
       "      <td>NaN</td>\n",
       "      <td>NaN</td>\n",
       "      <td>NaN</td>\n",
       "    </tr>\n",
       "    <tr>\n",
       "      <th>205468</th>\n",
       "      <td>[Grocery &amp; Gourmet Food, Canned, Jarred &amp; Pack...</td>\n",
       "      <td>NaN</td>\n",
       "      <td>Tres Hermanas Nacho Sliced Jalapenos 12 Oz (Pa...</td>\n",
       "      <td>Tres Hermanas</td>\n",
       "      <td>610,262inGroceryGourmetFood(</td>\n",
       "      <td>NaN</td>\n",
       "      <td>Grocery</td>\n",
       "      <td>NaN</td>\n",
       "      <td>B00LV0SXKW</td>\n",
       "      <td>NaN</td>\n",
       "      <td>NaN</td>\n",
       "      <td>NaN</td>\n",
       "      <td>NaN</td>\n",
       "      <td>\\n\\n\\n\\n\\n\\n    &lt;div class=\"disclaim\"&gt;Flavor: ...</td>\n",
       "      <td>NaN</td>\n",
       "      <td>NaN</td>\n",
       "      <td>NaN</td>\n",
       "    </tr>\n",
       "    <tr>\n",
       "      <th>5101</th>\n",
       "      <td>[Grocery &amp; Gourmet Food, Cooking &amp; Baking, Ext...</td>\n",
       "      <td>[This highly-concentrated, unsweetened champag...</td>\n",
       "      <td>LorAnn Oils Super-Strength Sparkling Wine Flav...</td>\n",
       "      <td>LorAnn Oils</td>\n",
       "      <td>&gt;#435,846 in Kitchen &amp; Dining (See Top 100 in ...</td>\n",
       "      <td>[B00F3ZCW4E, B007BIDREU, B00F8692LO, B00XRQ2N8...</td>\n",
       "      <td>Amazon Home</td>\n",
       "      <td>$4.70</td>\n",
       "      <td>B0000VLRFQ</td>\n",
       "      <td>NaN</td>\n",
       "      <td>NaN</td>\n",
       "      <td>May 21, 2008</td>\n",
       "      <td>[This highly-concentrated, unsweetened champag...</td>\n",
       "      <td>NaN</td>\n",
       "      <td>NaN</td>\n",
       "      <td>NaN</td>\n",
       "      <td>NaN</td>\n",
       "    </tr>\n",
       "    <tr>\n",
       "      <th>156781</th>\n",
       "      <td>[Grocery &amp; Gourmet Food, Beverages, Coffee, Te...</td>\n",
       "      <td>[English Aristocratic big leaf tea, Orange Pek...</td>\n",
       "      <td>Hyleys Tea English Aristocratic Loose Black Te...</td>\n",
       "      <td>3M</td>\n",
       "      <td>177,568inGroceryGourmetFood(</td>\n",
       "      <td>NaN</td>\n",
       "      <td>Grocery</td>\n",
       "      <td>$9.08</td>\n",
       "      <td>B00E5CS9RU</td>\n",
       "      <td>[B00601FGG6, B00R13FVKI]</td>\n",
       "      <td>[https://images-na.ssl-images-amazon.com/image...</td>\n",
       "      <td>NaN</td>\n",
       "      <td>NaN</td>\n",
       "      <td>\\n\\n\\n\\n\\n\\n    &lt;div class=\"disclaim\"&gt;Package ...</td>\n",
       "      <td>NaN</td>\n",
       "      <td>NaN</td>\n",
       "      <td>NaN</td>\n",
       "    </tr>\n",
       "  </tbody>\n",
       "</table>\n",
       "</div>"
      ],
      "text/plain": [
       "                                                 category  \\\n",
       "126708  [Grocery & Gourmet Food, Beverages, Coffee, Te...   \n",
       "134819  [Grocery & Gourmet Food, Candy & Chocolate, Ch...   \n",
       "205468  [Grocery & Gourmet Food, Canned, Jarred & Pack...   \n",
       "5101    [Grocery & Gourmet Food, Cooking & Baking, Ext...   \n",
       "156781  [Grocery & Gourmet Food, Beverages, Coffee, Te...   \n",
       "\n",
       "                                              description  \\\n",
       "126708  [More in ordinary instant coffee! This is the ...   \n",
       "134819  [Suitable for vegetarians French Cocoa Dusted ...   \n",
       "205468                                                NaN   \n",
       "5101    [This highly-concentrated, unsweetened champag...   \n",
       "156781  [English Aristocratic big leaf tea, Orange Pek...   \n",
       "\n",
       "                                                    title            brand  \\\n",
       "126708  Kopiko Instant 3 in 1 Brown Coffee - 30 Packet...           Kopiko   \n",
       "134819  Monty Bojangles French Cocoa Dusted Truffles W...  Monty Bojangles   \n",
       "205468  Tres Hermanas Nacho Sliced Jalapenos 12 Oz (Pa...    Tres Hermanas   \n",
       "5101    LorAnn Oils Super-Strength Sparkling Wine Flav...      LorAnn Oils   \n",
       "156781  Hyleys Tea English Aristocratic Loose Black Te...               3M   \n",
       "\n",
       "                                                     rank  \\\n",
       "126708                        17,189inGroceryGourmetFood(   \n",
       "134819                     1,400,414inGroceryGourmetFood(   \n",
       "205468                       610,262inGroceryGourmetFood(   \n",
       "5101    >#435,846 in Kitchen & Dining (See Top 100 in ...   \n",
       "156781                       177,568inGroceryGourmetFood(   \n",
       "\n",
       "                                                also_view     main_cat  \\\n",
       "126708                                                NaN      Grocery   \n",
       "134819                                                NaN      Grocery   \n",
       "205468                                                NaN      Grocery   \n",
       "5101    [B00F3ZCW4E, B007BIDREU, B00F8692LO, B00XRQ2N8...  Amazon Home   \n",
       "156781                                                NaN      Grocery   \n",
       "\n",
       "         price        asin                                           also_buy  \\\n",
       "126708  $11.80  B00ANR3Z5W  [B008532DLS, B07BD3CK4F, B073SH9V1R, B01H7OMLV...   \n",
       "134819     NaN  B00BHFDIWY                                                NaN   \n",
       "205468     NaN  B00LV0SXKW                                                NaN   \n",
       "5101     $4.70  B0000VLRFQ                                                NaN   \n",
       "156781   $9.08  B00E5CS9RU                           [B00601FGG6, B00R13FVKI]   \n",
       "\n",
       "                                                    image          date  \\\n",
       "126708  [https://images-na.ssl-images-amazon.com/image...           NaN   \n",
       "134819                                                NaN           NaN   \n",
       "205468                                                NaN           NaN   \n",
       "5101                                                  NaN  May 21, 2008   \n",
       "156781  [https://images-na.ssl-images-amazon.com/image...           NaN   \n",
       "\n",
       "                                                  feature  \\\n",
       "126708                                                NaN   \n",
       "134819                                                NaN   \n",
       "205468                                                NaN   \n",
       "5101    [This highly-concentrated, unsweetened champag...   \n",
       "156781                                                NaN   \n",
       "\n",
       "                                                  details similar_item tech1  \\\n",
       "126708  \\n\\n\\n\\n\\n\\n    <div class=\"disclaim\">Flavor: ...          NaN   NaN   \n",
       "134819  \\n      <div class=\"content\">\\n\\n\\n\\n\\n\\n\\n<ul...          NaN   NaN   \n",
       "205468  \\n\\n\\n\\n\\n\\n    <div class=\"disclaim\">Flavor: ...          NaN   NaN   \n",
       "5101                                                  NaN          NaN   NaN   \n",
       "156781  \\n\\n\\n\\n\\n\\n    <div class=\"disclaim\">Package ...          NaN   NaN   \n",
       "\n",
       "        fit  \n",
       "126708  NaN  \n",
       "134819  NaN  \n",
       "205468  NaN  \n",
       "5101    NaN  \n",
       "156781  NaN  "
      ]
     },
     "execution_count": 14,
     "metadata": {},
     "output_type": "execute_result"
    }
   ],
   "source": [
    "meta.sample(5)"
   ]
  },
  {
   "cell_type": "code",
   "execution_count": 15,
   "metadata": {},
   "outputs": [
    {
     "name": "stdout",
     "output_type": "stream",
     "text": [
      "<class 'pandas.core.frame.DataFrame'>\n",
      "RangeIndex: 287209 entries, 0 to 287208\n",
      "Data columns (total 17 columns):\n",
      " #   Column        Non-Null Count   Dtype \n",
      "---  ------        --------------   ----- \n",
      " 0   category      287209 non-null  object\n",
      " 1   description   251802 non-null  object\n",
      " 2   title         287205 non-null  object\n",
      " 3   brand         275787 non-null  object\n",
      " 4   rank          275494 non-null  object\n",
      " 5   also_view     121012 non-null  object\n",
      " 6   main_cat      285716 non-null  object\n",
      " 7   price         132136 non-null  object\n",
      " 8   asin          287209 non-null  object\n",
      " 9   also_buy      83332 non-null   object\n",
      " 10  image         150214 non-null  object\n",
      " 11  date          9663 non-null    object\n",
      " 12  feature       16374 non-null   object\n",
      " 13  details       273323 non-null  object\n",
      " 14  similar_item  256 non-null     object\n",
      " 15  tech1         744 non-null     object\n",
      " 16  fit           4 non-null       object\n",
      "dtypes: object(17)\n",
      "memory usage: 37.3+ MB\n"
     ]
    }
   ],
   "source": [
    "meta.info()"
   ]
  },
  {
   "cell_type": "markdown",
   "metadata": {},
   "source": [
    "Похоже на базу о продуктах. Синхронизация с данными по отзывам лучше всего идет через идентификатор asin. Продукты разделены по категориям, выделены основные (category, main_cat). Есть ранг в топах по различным категориям (rank), ссылки на продукты, которые просматривают и покупают вместе с ними( also_view, also_buy), ценовая категория (price), дана ссылка на страницу объекта (details)."
   ]
  },
  {
   "cell_type": "markdown",
   "metadata": {},
   "source": [
    "Подготовим датасет"
   ]
  },
  {
   "cell_type": "code",
   "execution_count": 16,
   "metadata": {},
   "outputs": [],
   "source": [
    "# Удалим дубликаты из тренировочного датасета\n",
    "train.drop_duplicates(inplace = True)\n",
    "\n",
    "# Объединим тренировочный датасет и данные из meta по идентификатору asin (Amazon Standard Identification Number)\n",
    "df = pd.merge(train, meta, on='asin')"
   ]
  },
  {
   "cell_type": "code",
   "execution_count": 17,
   "metadata": {},
   "outputs": [
    {
     "name": "stdout",
     "output_type": "stream",
     "text": [
      "<class 'pandas.core.frame.DataFrame'>\n",
      "Int64Index: 847593 entries, 0 to 847592\n",
      "Data columns (total 30 columns):\n",
      " #   Column          Non-Null Count   Dtype  \n",
      "---  ------          --------------   -----  \n",
      " 0   overall         847593 non-null  float64\n",
      " 1   verified        847593 non-null  bool   \n",
      " 2   reviewTime      847593 non-null  object \n",
      " 3   asin            847593 non-null  object \n",
      " 4   reviewerName    847425 non-null  object \n",
      " 5   reviewText      847315 non-null  object \n",
      " 6   summary         847426 non-null  object \n",
      " 7   unixReviewTime  847593 non-null  int64  \n",
      " 8   vote            118861 non-null  object \n",
      " 9   style           440351 non-null  object \n",
      " 10  image_x         7138 non-null    object \n",
      " 11  userid          847593 non-null  int64  \n",
      " 12  itemid          847593 non-null  int64  \n",
      " 13  rating          847593 non-null  float64\n",
      " 14  category        847593 non-null  object \n",
      " 15  description     776098 non-null  object \n",
      " 16  title           847593 non-null  object \n",
      " 17  brand           841489 non-null  object \n",
      " 18  rank            812995 non-null  object \n",
      " 19  also_view       463371 non-null  object \n",
      " 20  main_cat        846638 non-null  object \n",
      " 21  price           588972 non-null  object \n",
      " 22  also_buy        726858 non-null  object \n",
      " 23  image_y         755354 non-null  object \n",
      " 24  date            12087 non-null   object \n",
      " 25  feature         142734 non-null  object \n",
      " 26  details         832985 non-null  object \n",
      " 27  similar_item    1138 non-null    object \n",
      " 28  tech1           4372 non-null    object \n",
      " 29  fit             0 non-null       object \n",
      "dtypes: bool(1), float64(2), int64(3), object(24)\n",
      "memory usage: 194.8+ MB\n"
     ]
    }
   ],
   "source": [
    "df.info()"
   ]
  },
  {
   "cell_type": "markdown",
   "metadata": {},
   "source": [
    "Всего 30 признаков. 1 бинарный, 5 числовых и 24 категориальных."
   ]
  },
  {
   "cell_type": "markdown",
   "metadata": {},
   "source": [
    "## EDA"
   ]
  },
  {
   "cell_type": "markdown",
   "metadata": {},
   "source": [
    "### Overall"
   ]
  },
  {
   "cell_type": "code",
   "execution_count": 18,
   "metadata": {},
   "outputs": [
    {
     "name": "stdout",
     "output_type": "stream",
     "text": [
      "Количество пропусков: 0,\n",
      "count    847593.000000\n",
      "mean          4.441068\n",
      "std           1.065026\n",
      "min           1.000000\n",
      "25%           4.000000\n",
      "50%           5.000000\n",
      "75%           5.000000\n",
      "max           5.000000\n",
      "Name: overall, dtype: float64,\n",
      "Распределение:\n",
      "5.0    607524\n",
      "4.0    111868\n",
      "3.0     59795\n",
      "1.0     37071\n",
      "2.0     31335\n",
      "Name: overall, dtype: int64,\n"
     ]
    },
    {
     "data": {
      "image/png": "[encoded data removed]",
      "text/plain": [
       "<Figure size 432x288 with 1 Axes>"
      ]
     },
     "metadata": {
      "needs_background": "light"
     },
     "output_type": "display_data"
    }
   ],
   "source": [
    "col_info_hist(df.overall)"
   ]
  },
  {
   "cell_type": "markdown",
   "metadata": {},
   "source": [
    "Похоже на оценку по пятибальной шкале. Подавляющее большинство - пятерки. Данного признака нет в тестовой выборке, но мы можем использовать его для анализа других признаков."
   ]
  },
  {
   "cell_type": "code",
   "execution_count": 19,
   "metadata": {},
   "outputs": [],
   "source": [
    "df['overall']=df['overall'].astype('int32')"
   ]
  },
  {
   "cell_type": "markdown",
   "metadata": {},
   "source": [
    "### verified"
   ]
  },
  {
   "cell_type": "code",
   "execution_count": 20,
   "metadata": {},
   "outputs": [
    {
     "name": "stdout",
     "output_type": "stream",
     "text": [
      "Количество пропусков: 0,\n",
      "count     847593\n",
      "unique         2\n",
      "top         True\n",
      "freq      736369\n",
      "Name: verified, dtype: object,\n",
      "Распределение:\n",
      "True     736369\n",
      "False    111224\n",
      "Name: verified, dtype: int64,\n"
     ]
    }
   ],
   "source": [
    "col_info(df.verified)"
   ]
  },
  {
   "cell_type": "markdown",
   "metadata": {},
   "source": [
    "Данный признак скорее всего означает, что либо комментарий, либо аккаунт пользователя подтвержден. Пропусков нет. Заменим значения на 1 и 0."
   ]
  },
  {
   "cell_type": "code",
   "execution_count": 21,
   "metadata": {},
   "outputs": [],
   "source": [
    "dic_verified = {\n",
    "    True: 1,\n",
    "    False: 0\n",
    "}\n",
    "df['verified'] = df['verified'].map(dic_verified)"
   ]
  },
  {
   "cell_type": "markdown",
   "metadata": {},
   "source": [
    "Посмотрим, как влияет признак verified на среднюю оценку."
   ]
  },
  {
   "cell_type": "code",
   "execution_count": 22,
   "metadata": {},
   "outputs": [
    {
     "name": "stdout",
     "output_type": "stream",
     "text": [
      "Средняя оценка при значении verified = 1:  4.479455273103566\n",
      "Средняя оценка при значении verified = 0:  4.186920089189384\n"
     ]
    },
    {
     "data": {
      "text/plain": [
       "<AxesSubplot:>"
      ]
     },
     "execution_count": 22,
     "metadata": {},
     "output_type": "execute_result"
    },
    {
     "data": {
      "image/png": "[encoded data removed]",
      "text/plain": [
       "<Figure size 432x288 with 1 Axes>"
      ]
     },
     "metadata": {
      "needs_background": "light"
     },
     "output_type": "display_data"
    }
   ],
   "source": [
    "print('Средняя оценка при значении verified = 1: ',df[df.verified == 1].overall.mean())\n",
    "df['overall'][df['verified'] == 1].hist(bins=10)\n",
    "print('Средняя оценка при значении verified = 0: ',df[df.verified == 0].overall.mean())\n",
    "df['overall'][df['verified'] == 0].hist(bins=10)"
   ]
  },
  {
   "cell_type": "markdown",
   "metadata": {},
   "source": [
    "Видим, что средняя оценка товаров с признаком verified = 1 выше, но в целом распределение оценок похожее.\n",
    "\n",
    "Сильной разницы между оценками заметить не удалось. Это показывает, что отзывы обоих типов составляются \"честно\", без накруток, которые бы показали изменение рейтинга (скажем, в неверифицированных отзывах)."
   ]
  },
  {
   "cell_type": "markdown",
   "metadata": {},
   "source": [
    "### reviewTime"
   ]
  },
  {
   "cell_type": "code",
   "execution_count": 23,
   "metadata": {},
   "outputs": [
    {
     "name": "stdout",
     "output_type": "stream",
     "text": [
      "Количество пропусков: 0,\n",
      "count         847593\n",
      "unique          4580\n",
      "top       03 1, 2016\n",
      "freq             941\n",
      "Name: reviewTime, dtype: object,\n",
      "Распределение:\n",
      "03 1, 2016     941\n",
      "07 14, 2016    873\n",
      "01 20, 2016    783\n",
      "06 3, 2015     783\n",
      "02 20, 2016    767\n",
      "              ... \n",
      "12 5, 2005       1\n",
      "08 17, 2006      1\n",
      "06 17, 2007      1\n",
      "10 29, 2005      1\n",
      "12 29, 2004      1\n",
      "Name: reviewTime, Length: 4580, dtype: int64,\n"
     ]
    }
   ],
   "source": [
    "col_info(df.reviewTime)"
   ]
  },
  {
   "cell_type": "markdown",
   "metadata": {},
   "source": [
    "Дата отзыва. Эта информация есть в колонке unixReviewTime в более удобном формате. Удалим данный столбец."
   ]
  },
  {
   "cell_type": "code",
   "execution_count": 24,
   "metadata": {},
   "outputs": [],
   "source": [
    "df = df.drop(['reviewTime'], axis=1)"
   ]
  },
  {
   "cell_type": "markdown",
   "metadata": {},
   "source": [
    "### reviewerName"
   ]
  },
  {
   "cell_type": "code",
   "execution_count": 25,
   "metadata": {},
   "outputs": [
    {
     "name": "stdout",
     "output_type": "stream",
     "text": [
      "Количество пропусков: 168,\n",
      "count              847425\n",
      "unique             101207\n",
      "top       Amazon Customer\n",
      "freq                31346\n",
      "Name: reviewerName, dtype: object,\n",
      "Распределение:\n",
      "Amazon Customer    31346\n",
      "Kindle Customer     6128\n",
      "Linda                729\n",
      "John                 714\n",
      "David                606\n",
      "                   ...  \n",
      "Kagey61                1\n",
      "Ella Mark              1\n",
      "ridere46               1\n",
      "Doanld T.              1\n",
      "Robert L. Kelly        1\n",
      "Name: reviewerName, Length: 101207, dtype: int64,\n"
     ]
    }
   ],
   "source": [
    "col_info(df.reviewerName)"
   ]
  },
  {
   "cell_type": "markdown",
   "metadata": {},
   "source": [
    "Некоторые пользователи имеют свой айди, но при этом решили не вводить свое имя. Среди почти миллиона отзывов есть пара обширных групп - покупатели Kindle и Amazon. \n",
    "Скорее всего, отзывы оставлены через какой-либо отдельный сервис, и поэтому пользователям даны некоторые общие имена. \n",
    "Проверим, один userid у Amazon Customer, или одному имени пользователя может соответствовать несколько userid."
   ]
  },
  {
   "cell_type": "code",
   "execution_count": 26,
   "metadata": {},
   "outputs": [
    {
     "data": {
      "text/plain": [
       "7477      91\n",
       "1330      60\n",
       "24035     55\n",
       "8027      53\n",
       "15752     44\n",
       "          ..\n",
       "73871      1\n",
       "115807     1\n",
       "58045      1\n",
       "62767      1\n",
       "65437      1\n",
       "Name: userid, Length: 5329, dtype: int64"
      ]
     },
     "execution_count": 26,
     "metadata": {},
     "output_type": "execute_result"
    }
   ],
   "source": [
    "df[df.reviewerName=='Amazon Customer'].userid.value_counts()"
   ]
  },
  {
   "cell_type": "markdown",
   "metadata": {},
   "source": [
    "В таком случае, имя пользователя нам не нужно. Удалим столбец."
   ]
  },
  {
   "cell_type": "code",
   "execution_count": 27,
   "metadata": {},
   "outputs": [],
   "source": [
    "df = df.drop(['reviewerName'], axis=1)"
   ]
  },
  {
   "cell_type": "markdown",
   "metadata": {},
   "source": [
    "### reviewText"
   ]
  },
  {
   "cell_type": "code",
   "execution_count": 28,
   "metadata": {},
   "outputs": [
    {
     "name": "stdout",
     "output_type": "stream",
     "text": [
      "Количество пропусков: 278,\n"
     ]
    }
   ],
   "source": [
    "print('Количество пропусков: {},'.format(df.reviewText.isnull().sum()))"
   ]
  },
  {
   "cell_type": "markdown",
   "metadata": {},
   "source": [
    "Посмотрим на пример отзыва"
   ]
  },
  {
   "cell_type": "code",
   "execution_count": 29,
   "metadata": {},
   "outputs": [
    {
     "data": {
      "text/plain": [
       "'This is one of my favorites.  It is awesome on roasted veggies or any protein. love that there is no filler ingredients or sugars!'"
      ]
     },
     "execution_count": 29,
     "metadata": {},
     "output_type": "execute_result"
    }
   ],
   "source": [
    "df.reviewText[5]"
   ]
  },
  {
   "cell_type": "markdown",
   "metadata": {},
   "source": [
    "Данного признака нет в тестовой выборке. Удалим столбец."
   ]
  },
  {
   "cell_type": "code",
   "execution_count": 30,
   "metadata": {},
   "outputs": [],
   "source": [
    "# Удалим столбец reviewText\n",
    "df = df.drop(['reviewText'], axis=1)"
   ]
  },
  {
   "cell_type": "markdown",
   "metadata": {},
   "source": [
    "### summary"
   ]
  },
  {
   "cell_type": "markdown",
   "metadata": {},
   "source": [
    "Данного признака нет в тестовом датасете. Удалим столбец."
   ]
  },
  {
   "cell_type": "code",
   "execution_count": 31,
   "metadata": {},
   "outputs": [],
   "source": [
    "df = df.drop(['summary'], axis=1)"
   ]
  },
  {
   "cell_type": "markdown",
   "metadata": {},
   "source": [
    "### asin"
   ]
  },
  {
   "cell_type": "markdown",
   "metadata": {},
   "source": [
    "ASIN - Amazon Standard Identification Number - применяется как идентификатор продуктов внутри компании Amazon."
   ]
  },
  {
   "cell_type": "code",
   "execution_count": 32,
   "metadata": {},
   "outputs": [
    {
     "name": "stdout",
     "output_type": "stream",
     "text": [
      "Количество пропусков: 0,\n",
      "count         847593\n",
      "unique         41302\n",
      "top       B00BUKL666\n",
      "freq            5430\n",
      "Name: asin, dtype: object,\n",
      "Распределение:\n",
      "B00BUKL666    5430\n",
      "B00D3M2QP4    4733\n",
      "B008QMX2SG    4611\n",
      "B0001LO3FG    4252\n",
      "B00R7PWK7W    2449\n",
      "              ... \n",
      "B00C3YA8H6       1\n",
      "B00EYAAMVE       1\n",
      "B0041FWEL8       1\n",
      "B0014EQHR6       1\n",
      "B00BINNY3S       1\n",
      "Name: asin, Length: 41302, dtype: int64,\n"
     ]
    }
   ],
   "source": [
    "col_info(df.asin)"
   ]
  },
  {
   "cell_type": "markdown",
   "metadata": {},
   "source": [
    "идентификатор для модели нам не нужен, но у нас есть признаки also_buy и similar_item, для которых он может понадобиться. Пока оставим.\n",
    "\n",
    "Видим, что всего у нас 41302 различных продукта.\n",
    "\n",
    "В дальнейшем мы этот признак не используем т.к. пока не придумали как использовать признаки also_view и also_buy, для которых asin скорее всего понадобится. Пока что удалим."
   ]
  },
  {
   "cell_type": "code",
   "execution_count": 33,
   "metadata": {},
   "outputs": [],
   "source": [
    "df = df.drop(['asin'], axis=1)"
   ]
  },
  {
   "cell_type": "markdown",
   "metadata": {},
   "source": [
    "### unixReviewTime"
   ]
  },
  {
   "cell_type": "code",
   "execution_count": 34,
   "metadata": {},
   "outputs": [
    {
     "name": "stdout",
     "output_type": "stream",
     "text": [
      "Количество пропусков: 0,\n",
      "count    8.475930e+05\n",
      "mean     1.441914e+09\n",
      "std      5.992384e+07\n",
      "min      9.657792e+08\n",
      "25%      1.412122e+09\n",
      "50%      1.449360e+09\n",
      "75%      1.485130e+09\n",
      "max      1.538438e+09\n",
      "Name: unixReviewTime, dtype: float64,\n",
      "Распределение:\n",
      "1456790400    941\n",
      "1468454400    873\n",
      "1433289600    783\n",
      "1453248000    783\n",
      "1455926400    767\n",
      "             ... \n",
      "1113782400      1\n",
      "1132444800      1\n",
      "1167609600      1\n",
      "1105142400      1\n",
      "1155081600      1\n",
      "Name: unixReviewTime, Length: 4580, dtype: int64,\n"
     ]
    }
   ],
   "source": [
    "col_info(df.unixReviewTime)"
   ]
  },
  {
   "cell_type": "markdown",
   "metadata": {},
   "source": [
    "Пропусков нет. Посмотрим, как изменялись оценки со временем."
   ]
  },
  {
   "cell_type": "code",
   "execution_count": 35,
   "metadata": {},
   "outputs": [
    {
     "data": {
      "text/plain": [
       "<AxesSubplot:>"
      ]
     },
     "execution_count": 35,
     "metadata": {},
     "output_type": "execute_result"
    },
    {
     "data": {
      "image/png": "[encoded data removed]",
      "text/plain": [
       "<Figure size 432x288 with 1 Axes>"
      ]
     },
     "metadata": {
      "needs_background": "light"
     },
     "output_type": "display_data"
    }
   ],
   "source": [
    "df.unixReviewTime.hist(bins=100)\n",
    "df[df.overall == 5].unixReviewTime.hist(bins=100)\n",
    "df[df.overall == 4].unixReviewTime.hist(bins=100)\n",
    "df[df.overall == 3].unixReviewTime.hist(bins=100)\n",
    "df[df.overall == 1].unixReviewTime.hist(bins=100)\n",
    "df[df.overall == 2].unixReviewTime.hist(bins=100)"
   ]
  },
  {
   "cell_type": "markdown",
   "metadata": {},
   "source": [
    "Посмотрим, на распределение отзывов по датам, приведя даты к удобному виду."
   ]
  },
  {
   "cell_type": "code",
   "execution_count": 36,
   "metadata": {},
   "outputs": [
    {
     "name": "stdout",
     "output_type": "stream",
     "text": [
      "Самый первый отзыв: 2000-08-09 00:00:00\n",
      "25 квантиль: 2014-10-01 00:00:00\n",
      "50 квантиль: 2015-12-06 00:00:00\n",
      "75 квантиль: 2017-01-23 00:00:00\n",
      "Последний отзыв: 2018-10-02 00:00:00\n"
     ]
    }
   ],
   "source": [
    "from datetime import datetime\n",
    "tsmin = df.unixReviewTime.min()\n",
    "ts25 = int(df.unixReviewTime.quantile(0.25))\n",
    "ts50 = int(df.unixReviewTime.quantile(0.50))\n",
    "ts75 = int(df.unixReviewTime.quantile(0.75))\n",
    "tsmax = df.unixReviewTime.max()\n",
    "print('Самый первый отзыв:', datetime.utcfromtimestamp(tsmin).strftime('%Y-%m-%d %H:%M:%S'))\n",
    "print('25 квантиль:', datetime.utcfromtimestamp(ts25).strftime('%Y-%m-%d %H:%M:%S'))\n",
    "print('50 квантиль:', datetime.utcfromtimestamp(ts50).strftime('%Y-%m-%d %H:%M:%S'))\n",
    "print('75 квантиль:', datetime.utcfromtimestamp(ts75).strftime('%Y-%m-%d %H:%M:%S'))\n",
    "print('Последний отзыв:', datetime.utcfromtimestamp(tsmax).strftime('%Y-%m-%d %H:%M:%S'))"
   ]
  },
  {
   "cell_type": "markdown",
   "metadata": {},
   "source": [
    "Создадим категории в зависимости от даты написания отзыва"
   ]
  },
  {
   "cell_type": "code",
   "execution_count": 37,
   "metadata": {},
   "outputs": [],
   "source": [
    "# Создадим 3 категории в зависимости от даты написания\n",
    "def cat_date(x):\n",
    "    if x <= ts25: x = 'old'\n",
    "    elif ts25 < x <= ts50: x = 'middle_old'\n",
    "    elif ts50 < x <= ts75: x = 'middle_new'\n",
    "    elif ts75 < x: x = 'new'\n",
    "    return x      \n",
    "\n",
    "# Заменим значения в столбце на категории\n",
    "df['unixReviewTime'] = df['unixReviewTime'].apply(lambda x: cat_date(x))"
   ]
  },
  {
   "cell_type": "markdown",
   "metadata": {},
   "source": [
    "### vote"
   ]
  },
  {
   "cell_type": "code",
   "execution_count": 38,
   "metadata": {},
   "outputs": [
    {
     "name": "stdout",
     "output_type": "stream",
     "text": [
      "Количество пропусков: 728732,\n",
      "count     118861.0\n",
      "unique       477.0\n",
      "top            2.0\n",
      "freq       30774.0\n",
      "Name: vote, dtype: float64,\n",
      "Распределение:\n",
      "2.0      30774\n",
      "3.0      15336\n",
      "2        13786\n",
      "4.0       8893\n",
      "3         6969\n",
      "         ...  \n",
      "122.0        1\n",
      "576.0        1\n",
      "120.0        1\n",
      "577.0        1\n",
      "155          1\n",
      "Name: vote, Length: 477, dtype: int64,\n"
     ]
    }
   ],
   "source": [
    "col_info(df.vote)"
   ]
  },
  {
   "cell_type": "code",
   "execution_count": 39,
   "metadata": {},
   "outputs": [
    {
     "data": {
      "text/plain": [
       "array([nan, 4.0, 5.0, 8.0, '7', 7.0, 3.0, 2.0, '28', '2', '4', 6.0, '3',\n",
       "       '30', '14', '8', '6', '17', '5', '142', '21', '16', 9.0, 15.0,\n",
       "       12.0, 18.0, 404.0, 22.0, 10.0, '22', 13.0, 136.0, '18', '12', '34',\n",
       "       '69', '10', '48', '20', 11.0, 14.0, 133.0, 16.0, 36.0, 31.0, 117.0,\n",
       "       17.0, 29.0, 37.0, '39', '9', '11', '27', 172.0, 251.0, '41', 52.0,\n",
       "       38.0, 27.0, '15', '61', '38', 25.0, 127.0, '36', 28.0, 61.0, 24.0,\n",
       "       49.0, 51.0, 19.0, 20.0, '13', 74.0, 121.0, 45.0, 33.0, 266.0, '44',\n",
       "       '232', '25', 47.0, 138.0, 176.0, 75.0, 30.0, '42', 128.0, '24',\n",
       "       '184', '624', 40.0, 272.0, 881.0, 53.0, 21.0, 43.0, 184.0, '35',\n",
       "       35.0, 23.0, 39.0, 227.0, 42.0, 507.0, 59.0, 114.0, 87.0, 55.0,\n",
       "       26.0, '19', 41.0, '82', 143.0, 73.0, 187.0, 66.0, '45', 56.0, '76',\n",
       "       112.0, 57.0, '115', '75', '33', '50', 50.0, 68.0, 54.0, 63.0, '47',\n",
       "       '43', 108.0, 185.0, '302', 208.0, '59', 269.0, 78.0, 103.0, '26',\n",
       "       148.0, 160.0, '80', 32.0, 71.0, 130.0, 85.0, '52', '123', 62.0,\n",
       "       95.0, 44.0, 115.0, 603.0, 82.0, 34.0, '55', 88.0, '176', 232.0,\n",
       "       '86', '132', '37', 67.0, '119', '70', '85', 48.0, '54', 296.0,\n",
       "       '560', '29', 91.0, '46', 203.0, 360.0, 857.0, 107.0, '679', 679.0,\n",
       "       146.0, '32', '31', '89', '60', 94.0, 46.0, '77', '23', 129.0,\n",
       "       '122', '40', '223', 100.0, '121', 65.0, '53', '101', 64.0, 255.0,\n",
       "       116.0, 171.0, 276.0, 186.0, '186', 190.0, 531.0, '68', 166.0,\n",
       "       '1,157', 123.0, 435.0, '516', '416', '173', '92', 92.0, 195.0,\n",
       "       '342', 576.0, 202.0, '264', 752.0, 264.0, 181.0, 199.0, 362.0,\n",
       "       198.0, 60.0, '112', 680.0, '1,626', 268.0, 150.0, '218', 278.0,\n",
       "       '91', 111.0, 89.0, '428', 83.0, 295.0, 224.0, '88', '155', '62',\n",
       "       '144', '157', '58', 216.0, 358.0, 102.0, '66', 934.0, 79.0, '146',\n",
       "       145.0, 164.0, '202', 118.0, 96.0, 93.0, 72.0, '148', '56', '49',\n",
       "       '64', 170.0, '72', '300', '296', '716', 259.0, 300.0, 119.0, 58.0,\n",
       "       '65', '205', 205.0, '159', 126.0, '107', 101.0, '81', 179.0, '139',\n",
       "       139.0, 77.0, '251', '143', 110.0, 134.0, 122.0, '57', 173.0, '110',\n",
       "       '84', 81.0, 86.0, '135', 273.0, 580.0, 156.0, '460', 165.0, 226.0,\n",
       "       265.0, '109', '228', '163', '181', '250', 158.0, '230', '180',\n",
       "       214.0, 70.0, 247.0, '71', '97', 69.0, '51', 125.0, '111', '102',\n",
       "       '74', 76.0, 113.0, '136', '120', '1,491', '79', '87', 167.0, '195',\n",
       "       '104', 594.0, 99.0, '117', '278', '363', '154', '131', 414.0, '96',\n",
       "       242.0, 80.0, '98', 402.0, 206.0, 387.0, '93', 90.0, '257', 84.0,\n",
       "       194.0, 377.0, 327.0, '189', 98.0, '172', 104.0, 193.0, 142.0,\n",
       "       124.0, 241.0, 191.0, 222.0, '1,383', '170', '188', 246.0, '78',\n",
       "       254.0, 238.0, '116', '83', 346.0, 144.0, '187', '113', 109.0,\n",
       "       175.0, '265', '118', '1,060', 316.0, 225.0, '240', '67', 240.0,\n",
       "       275.0, '343', '126', '127', '392', 149.0, '63', '128', '94', '106',\n",
       "       '105', 359.0, '95', 168.0, 263.0, '334', '309', 105.0, 577.0,\n",
       "       824.0, '152', 644.0, 159.0, 375.0, 192.0, 393.0, 132.0, 106.0,\n",
       "       '129', 369.0, 197.0, 147.0, 351.0, 290.0, 425.0, 180.0, '926',\n",
       "       '289', 289.0, 239.0, 188.0, '710', 317.0, '125', '385', 154.0,\n",
       "       '622', 141.0, '349', 817.0, '588', 220.0, 97.0, 157.0, '164',\n",
       "       '133', 310.0, 304.0, 140.0, '171', 229.0, '99', '169', 659.0,\n",
       "       363.0, '73', '221', '141', 217.0, 209.0, 211.0, '375', 291.0,\n",
       "       '150', 131.0, 210.0, 373.0, '174', '284', '151', '331', '712',\n",
       "       '145', 120.0, '193', '153'], dtype=object)"
      ]
     },
     "execution_count": 39,
     "metadata": {},
     "output_type": "execute_result"
    }
   ],
   "source": [
    "df.vote.unique()"
   ]
  },
  {
   "cell_type": "markdown",
   "metadata": {},
   "source": [
    "Скорее всего, данные признак показывает количество голосов, отданных за отзыв. Видим, что в значениях числа через запятую, с нулём и без нуля. Также видим большое количество пропусков. Скорее всего, за эти отзывы никто не проголосовал, что вполне естественно, и мы можем заменить пропуски на 0."
   ]
  },
  {
   "cell_type": "code",
   "execution_count": 40,
   "metadata": {},
   "outputs": [],
   "source": [
    "# Заменим пропуски на 0\n",
    "df.vote = df.vote.fillna(0)"
   ]
  },
  {
   "cell_type": "code",
   "execution_count": 41,
   "metadata": {},
   "outputs": [
    {
     "data": {
      "text/plain": [
       "array([   0,    4,    5,    8,    7,    3,    2,   28,    6,   30,   14,\n",
       "         17,  142,   21,   16,    9,   15,   12,   18,  404,   22,   10,\n",
       "         13,  136,   34,   69,   48,   20,   11,  133,   36,   31,  117,\n",
       "         29,   37,   39,   27,  172,  251,   41,   52,   38,   61,   25,\n",
       "        127,   24,   49,   51,   19,   74,  121,   45,   33,  266,   44,\n",
       "        232,   47,  138,  176,   75,   42,  128,  184,  624,   40,  272,\n",
       "        881,   53,   43,   35,   23,  227,  507,   59,  114,   87,   55,\n",
       "         26,   82,  143,   73,  187,   66,   56,   76,  112,   57,  115,\n",
       "         50,   68,   54,   63,  108,  185,  302,  208,  269,   78,  103,\n",
       "        148,  160,   80,   32,   71,  130,   85,  123,   62,   95,  603,\n",
       "         88,   86,  132,   67,  119,   70,  296,  560,   91,   46,  203,\n",
       "        360,  857,  107,  679,  146,   89,   60,   94,   77,  129,  122,\n",
       "        223,  100,   65,  101,   64,  255,  116,  171,  276,  186,  190,\n",
       "        531,  166, 1157,  435,  516,  416,  173,   92,  195,  342,  576,\n",
       "        202,  264,  752,  181,  199,  362,  198,  680, 1626,  268,  150,\n",
       "        218,  278,  111,  428,   83,  295,  224,  155,  144,  157,   58,\n",
       "        216,  358,  102,  934,   79,  145,  164,  118,   96,   93,   72,\n",
       "        170,  300,  716,  259,  205,  159,  126,   81,  179,  139,  110,\n",
       "        134,   84,  135,  273,  580,  156,  460,  165,  226,  265,  109,\n",
       "        228,  163,  250,  158,  230,  180,  214,  247,   97,  125,  113,\n",
       "        120, 1491,  167,  104,  594,   99,  363,  154,  131,  414,  242,\n",
       "         98,  402,  206,  387,   90,  257,  194,  377,  327,  189,  193,\n",
       "        124,  241,  191,  222, 1383,  188,  246,  254,  238,  346,  175,\n",
       "       1060,  316,  225,  240,  275,  343,  392,  149,  106,  105,  359,\n",
       "        168,  263,  334,  309,  577,  824,  152,  644,  375,  192,  393,\n",
       "        369,  197,  147,  351,  290,  425,  926,  289,  239,  710,  317,\n",
       "        385,  622,  141,  349,  817,  588,  220,  310,  304,  140,  229,\n",
       "        169,  659,  221,  217,  209,  211,  291,  210,  373,  174,  284,\n",
       "        151,  331,  712,  153])"
      ]
     },
     "execution_count": 41,
     "metadata": {},
     "output_type": "execute_result"
    }
   ],
   "source": [
    "# Удалим запятые\n",
    "df['vote'] = df['vote'].astype('str')\n",
    "df['vote'] = df['vote'].apply(lambda x: x.replace(',', ''))\n",
    "# Заменим пропуски на 0\n",
    "df['vote'] = df['vote'].apply(lambda x: x.replace('nan', '0'))\n",
    "df.vote = df.vote.fillna(0)\n",
    "# Приведем к int32\n",
    "df['vote'] = df['vote'].astype('float')\n",
    "df['vote'] = df['vote'].astype('int32')\n",
    "# Посмотрим на результат\n",
    "df.vote.unique()"
   ]
  },
  {
   "cell_type": "code",
   "execution_count": 42,
   "metadata": {},
   "outputs": [],
   "source": [
    "# Создадим 3 категории по количеству голосов\n",
    "def cat_vote(x):\n",
    "    if x < 10: x = 'low'\n",
    "    elif 10 <= x <= 100: x = 'middle'\n",
    "    elif 100 < x: x = 'high'\n",
    "    return x      \n",
    "\n",
    "# Заменим значения в столбце на категории\n",
    "df['vote'] = df['vote'].apply(lambda x: cat_vote(x))"
   ]
  },
  {
   "cell_type": "markdown",
   "metadata": {},
   "source": [
    "### style"
   ]
  },
  {
   "cell_type": "code",
   "execution_count": 43,
   "metadata": {},
   "outputs": [
    {
     "name": "stdout",
     "output_type": "stream",
     "text": [
      "Количество пропусков: 407242,\n",
      "count                      440351\n",
      "unique                      25892\n",
      "top       {'Size:': ' Pack of 1'}\n",
      "freq                         4856\n",
      "Name: style, dtype: object,\n",
      "Распределение:\n",
      "{'Size:': ' Pack of 1'}                                                                 4856\n",
      "{'Package Quantity:': ' 1'}                                                             4526\n",
      "{'Package Type:': ' Standard Packaging'}                                                3898\n",
      "{'Size:': ' 1 Pack'}                                                                    3848\n",
      "{'Size:': ' 24 Count'}                                                                  3640\n",
      "                                                                                        ... \n",
      "{'Size:': ' 2 Ounce (Pack of 15)', 'Flavor:': ' Honey Roasted Cashews (Super Tube)'}       1\n",
      "{'Size:': ' 2 Pack', 'Flavor:': ' Vanilla'}                                                1\n",
      "{'Flavor:': ' Donwell Abbey (Cinnamon Marsala)'}                                           1\n",
      "{'Size:': ' Natural Lavender Flavor, (8 fl oz)'}                                           1\n",
      "{'Size:': ' (Pack of 12)', 'Flavor:': ' Chocolate Chip Cookie Dough'}                      1\n",
      "Name: style, Length: 25892, dtype: int64,\n"
     ]
    }
   ],
   "source": [
    "col_info(df['style'])"
   ]
  },
  {
   "cell_type": "markdown",
   "metadata": {},
   "source": [
    "Видим словарь из размера упаковки и вкуса. Скорее всего, отсюда можно что-то полезное выделить, но но пропусков больше половины."
   ]
  },
  {
   "cell_type": "code",
   "execution_count": 44,
   "metadata": {},
   "outputs": [],
   "source": [
    "df = df.drop(['style'], axis=1)"
   ]
  },
  {
   "cell_type": "markdown",
   "metadata": {},
   "source": [
    "### image_x"
   ]
  },
  {
   "cell_type": "markdown",
   "metadata": {},
   "source": [
    "Ссылки на картинки. Удалим столбец."
   ]
  },
  {
   "cell_type": "code",
   "execution_count": 45,
   "metadata": {},
   "outputs": [],
   "source": [
    "df = df.drop(['image_x'], axis=1)"
   ]
  },
  {
   "cell_type": "markdown",
   "metadata": {},
   "source": [
    "### userid"
   ]
  },
  {
   "cell_type": "code",
   "execution_count": 46,
   "metadata": {},
   "outputs": [
    {
     "name": "stdout",
     "output_type": "stream",
     "text": [
      "Количество пропусков: 0,\n",
      "count    847593.000000\n",
      "mean      53756.091163\n",
      "std       37211.809152\n",
      "min           0.000000\n",
      "25%       20347.000000\n",
      "50%       48581.000000\n",
      "75%       84723.000000\n",
      "max      127495.000000\n",
      "Name: userid, dtype: float64,\n",
      "Распределение:\n",
      "842      427\n",
      "17987    317\n",
      "355      302\n",
      "2024     296\n",
      "2809     279\n",
      "        ... \n",
      "66068      1\n",
      "71046      1\n",
      "90602      1\n",
      "37414      1\n",
      "77032      1\n",
      "Name: userid, Length: 127448, dtype: int64,\n"
     ]
    }
   ],
   "source": [
    "col_info(df.userid)"
   ]
  },
  {
   "cell_type": "markdown",
   "metadata": {},
   "source": [
    "ID пользователя. Пропусков нет."
   ]
  },
  {
   "cell_type": "markdown",
   "metadata": {},
   "source": [
    "### itemid"
   ]
  },
  {
   "cell_type": "code",
   "execution_count": 47,
   "metadata": {},
   "outputs": [
    {
     "name": "stdout",
     "output_type": "stream",
     "text": [
      "Количество пропусков: 0,\n",
      "count    847593.00000\n",
      "mean      17090.10489\n",
      "std       11584.74670\n",
      "min           0.00000\n",
      "25%        6478.00000\n",
      "50%       16108.00000\n",
      "75%       26719.00000\n",
      "max       41319.00000\n",
      "Name: itemid, dtype: float64,\n",
      "Распределение:\n",
      "22208    5430\n",
      "23540    4733\n",
      "24556    4611\n",
      "379      4252\n",
      "32046    2449\n",
      "         ... \n",
      "38965       1\n",
      "23635       1\n",
      "34272       1\n",
      "39917       1\n",
      "38902       1\n",
      "Name: itemid, Length: 41302, dtype: int64,\n"
     ]
    }
   ],
   "source": [
    "col_info(df.itemid)"
   ]
  },
  {
   "cell_type": "markdown",
   "metadata": {},
   "source": [
    "Проверим, если в тестовом и тренировочном датасетах пропущенные id. Это может быть проблемой при предсказании с помощьюу LightFM c item_features."
   ]
  },
  {
   "cell_type": "code",
   "execution_count": 48,
   "metadata": {},
   "outputs": [
    {
     "name": "stdout",
     "output_type": "stream",
     "text": [
      "Количество уникальных itemid в тренировочном датасете: 41302\n",
      "Максимальный itemid в тренировочном датасете: 41320\n"
     ]
    }
   ],
   "source": [
    "print('Количество уникальных itemid в тренировочном датасете:',len(df.itemid.unique()))\n",
    "print('Максимальный itemid в тренировочном датасете:',df.itemid.max()+1)"
   ]
  },
  {
   "cell_type": "markdown",
   "metadata": {},
   "source": [
    "Видим, что есть пропущенные itemid."
   ]
  },
  {
   "cell_type": "code",
   "execution_count": 49,
   "metadata": {},
   "outputs": [
    {
     "data": {
      "text/html": [
       "<div>\n",
       "<style scoped>\n",
       "    .dataframe tbody tr th:only-of-type {\n",
       "        vertical-align: middle;\n",
       "    }\n",
       "\n",
       "    .dataframe tbody tr th {\n",
       "        vertical-align: top;\n",
       "    }\n",
       "\n",
       "    .dataframe thead th {\n",
       "        text-align: right;\n",
       "    }\n",
       "</style>\n",
       "<table border=\"1\" class=\"dataframe\">\n",
       "  <thead>\n",
       "    <tr style=\"text-align: right;\">\n",
       "      <th></th>\n",
       "      <th>overall</th>\n",
       "      <th>verified</th>\n",
       "      <th>unixReviewTime</th>\n",
       "      <th>vote</th>\n",
       "      <th>userid</th>\n",
       "      <th>itemid</th>\n",
       "      <th>rating</th>\n",
       "      <th>category</th>\n",
       "      <th>description</th>\n",
       "      <th>title</th>\n",
       "      <th>brand</th>\n",
       "      <th>rank</th>\n",
       "      <th>also_view</th>\n",
       "      <th>main_cat</th>\n",
       "      <th>price</th>\n",
       "      <th>also_buy</th>\n",
       "      <th>image_y</th>\n",
       "      <th>date</th>\n",
       "      <th>feature</th>\n",
       "      <th>details</th>\n",
       "      <th>similar_item</th>\n",
       "      <th>tech1</th>\n",
       "      <th>fit</th>\n",
       "    </tr>\n",
       "  </thead>\n",
       "  <tbody>\n",
       "    <tr>\n",
       "      <th>0</th>\n",
       "      <td>5</td>\n",
       "      <td>1</td>\n",
       "      <td>middle_new</td>\n",
       "      <td>low</td>\n",
       "      <td>102179</td>\n",
       "      <td>37138</td>\n",
       "      <td>1.0</td>\n",
       "      <td>[Grocery &amp; Gourmet Food, Herbs, Spices &amp; Seaso...</td>\n",
       "      <td>[Adobo seasoning (known as adobo seco) is a ve...</td>\n",
       "      <td>Primal Palate Organic Spices Adobo Seasoning, ...</td>\n",
       "      <td>Primal Palate Organic Spices</td>\n",
       "      <td>19,771inGroceryGourmetFood(</td>\n",
       "      <td>[B00AJRKRJS, B01NALHAY9, B01DGZ2B48, B01EZ489A...</td>\n",
       "      <td>Grocery</td>\n",
       "      <td>$9.95</td>\n",
       "      <td>[B01DGZ2B48, B01EZ489AO, B01DH795LM, B01EYW2LC...</td>\n",
       "      <td>[https://images-na.ssl-images-amazon.com/image...</td>\n",
       "      <td>NaN</td>\n",
       "      <td>NaN</td>\n",
       "      <td>\\n      &lt;div class=\"content\"&gt;\\n\\n\\n\\n\\n\\n\\n&lt;ul...</td>\n",
       "      <td>NaN</td>\n",
       "      <td>NaN</td>\n",
       "      <td>NaN</td>\n",
       "    </tr>\n",
       "  </tbody>\n",
       "</table>\n",
       "</div>"
      ],
      "text/plain": [
       "   overall  verified unixReviewTime vote  userid  itemid  rating  \\\n",
       "0        5         1     middle_new  low  102179   37138     1.0   \n",
       "\n",
       "                                            category  \\\n",
       "0  [Grocery & Gourmet Food, Herbs, Spices & Seaso...   \n",
       "\n",
       "                                         description  \\\n",
       "0  [Adobo seasoning (known as adobo seco) is a ve...   \n",
       "\n",
       "                                               title  \\\n",
       "0  Primal Palate Organic Spices Adobo Seasoning, ...   \n",
       "\n",
       "                          brand                         rank  \\\n",
       "0  Primal Palate Organic Spices  19,771inGroceryGourmetFood(   \n",
       "\n",
       "                                           also_view main_cat  price  \\\n",
       "0  [B00AJRKRJS, B01NALHAY9, B01DGZ2B48, B01EZ489A...  Grocery  $9.95   \n",
       "\n",
       "                                            also_buy  \\\n",
       "0  [B01DGZ2B48, B01EZ489AO, B01DH795LM, B01EYW2LC...   \n",
       "\n",
       "                                             image_y date feature  \\\n",
       "0  [https://images-na.ssl-images-amazon.com/image...  NaN     NaN   \n",
       "\n",
       "                                             details similar_item tech1  fit  \n",
       "0  \\n      <div class=\"content\">\\n\\n\\n\\n\\n\\n\\n<ul...          NaN   NaN  NaN  "
      ]
     },
     "execution_count": 49,
     "metadata": {},
     "output_type": "execute_result"
    }
   ],
   "source": [
    "df.head(1)"
   ]
  },
  {
   "cell_type": "markdown",
   "metadata": {},
   "source": [
    "ID товара. Пропусков нет."
   ]
  },
  {
   "cell_type": "markdown",
   "metadata": {},
   "source": [
    "### rating"
   ]
  },
  {
   "cell_type": "code",
   "execution_count": 50,
   "metadata": {},
   "outputs": [
    {
     "name": "stdout",
     "output_type": "stream",
     "text": [
      "Количество пропусков: 0,\n",
      "count    847593.000000\n",
      "mean          0.848747\n",
      "std           0.358296\n",
      "min           0.000000\n",
      "25%           1.000000\n",
      "50%           1.000000\n",
      "75%           1.000000\n",
      "max           1.000000\n",
      "Name: rating, dtype: float64,\n",
      "Распределение:\n",
      "1.0    719392\n",
      "0.0    128201\n",
      "Name: rating, dtype: int64,\n"
     ]
    }
   ],
   "source": [
    "col_info(df.rating)"
   ]
  },
  {
   "cell_type": "markdown",
   "metadata": {},
   "source": [
    "Целевая переменная. Здесь всего 2 значения - понравился пользователю товар или нет. Посмотрим, как этот признак зависит от оценки."
   ]
  },
  {
   "cell_type": "code",
   "execution_count": 51,
   "metadata": {},
   "outputs": [
    {
     "name": "stdout",
     "output_type": "stream",
     "text": [
      "Оценки при rating = 0:\n",
      " 3    59795\n",
      "1    37071\n",
      "2    31335\n",
      "Name: overall, dtype: int64\n",
      "Оценки при rating = 1:\n",
      " 5    607524\n",
      "4    111868\n",
      "Name: overall, dtype: int64\n"
     ]
    }
   ],
   "source": [
    "print('Оценки при rating = 0:\\n', df[df.rating == 0].overall.value_counts())\n",
    "print('Оценки при rating = 1:\\n', df[df.rating == 1].overall.value_counts())"
   ]
  },
  {
   "cell_type": "markdown",
   "metadata": {},
   "source": [
    "При оценках 4 или 5 считаем, что товар понравился. 1,2 или 3 - не понравился."
   ]
  },
  {
   "cell_type": "markdown",
   "metadata": {},
   "source": [
    "### category"
   ]
  },
  {
   "cell_type": "code",
   "execution_count": 52,
   "metadata": {},
   "outputs": [
    {
     "data": {
      "text/plain": [
       "['Grocery & Gourmet Food', 'Beverages', 'Coffee, Tea & Cocoa', 'Cocoa']"
      ]
     },
     "execution_count": 52,
     "metadata": {},
     "output_type": "execute_result"
    }
   ],
   "source": [
    "df.category[25]"
   ]
  },
  {
   "cell_type": "markdown",
   "metadata": {},
   "source": [
    "Видим в данном признаке список категорий, к которй относится товар. Слабо влияет на точность модели, решила не использовать."
   ]
  },
  {
   "cell_type": "code",
   "execution_count": 53,
   "metadata": {},
   "outputs": [],
   "source": [
    "# Удалим столбец с категориями\n",
    "df = df.drop(['category'], axis = 1)"
   ]
  },
  {
   "cell_type": "markdown",
   "metadata": {},
   "source": [
    "### description"
   ]
  },
  {
   "cell_type": "markdown",
   "metadata": {},
   "source": [
    "Описание товара"
   ]
  },
  {
   "cell_type": "code",
   "execution_count": 55,
   "metadata": {},
   "outputs": [
    {
     "data": {
      "text/plain": [
       "['Adobo seasoning (known as adobo seco) is a very popular spice blend used throughout Latin American cooking, though its a fundamental ingredient of Puerto Rican cooking. Primal palate adobo seasoning includes mineral-rich Himalayan pink salt. The result is a beautifully balanced version of the popular blend that is suitable for seasoning any dish. Find recipes using our adobo seasoning www.Primalpalate.Comcertified USDA-organic, whole30 approved, certified gluten-free, kosher, non-GMO, and non-irradiated. Ingredients: Pink Himalayan salt, garlic, onion, black pepper, oregano, turmeric (organic) this item is packaged in a glass bottle with a plastic flip-top shaker cap. It is independently certified gluten-free, and bottled in a nut-free facility.',\n",
       " 'Ingredients: Pink Himalayan Salt, Garlic*, Onion*, Black Pepper*, Oregano*, Turmeric* (*Organic)',\n",
       " 'Statements regarding dietary supplements have not been evaluated by the FDA and are not intended to diagnose, treat, cure, or prevent any disease or health condition.']"
      ]
     },
     "execution_count": 55,
     "metadata": {},
     "output_type": "execute_result"
    }
   ],
   "source": [
    "df.description[5]"
   ]
  },
  {
   "cell_type": "markdown",
   "metadata": {},
   "source": [
    "Создание новых features на основание текста из description не принесло заметных улучшений. Удалим."
   ]
  },
  {
   "cell_type": "code",
   "execution_count": 56,
   "metadata": {},
   "outputs": [],
   "source": [
    "df = df.drop(['description'], axis = 1)"
   ]
  },
  {
   "cell_type": "markdown",
   "metadata": {},
   "source": [
    "### title"
   ]
  },
  {
   "cell_type": "code",
   "execution_count": 57,
   "metadata": {},
   "outputs": [
    {
     "data": {
      "text/plain": [
       "'Primal Palate Organic Spices Adobo Seasoning, Certified Organic, 2.6 oz Bottle'"
      ]
     },
     "execution_count": 57,
     "metadata": {},
     "output_type": "execute_result"
    }
   ],
   "source": [
    "df.title[5]"
   ]
  },
  {
   "cell_type": "markdown",
   "metadata": {},
   "source": [
    "Видим, что title частично содержится в description. Удалим данный признак."
   ]
  },
  {
   "cell_type": "code",
   "execution_count": 58,
   "metadata": {},
   "outputs": [],
   "source": [
    "df = df.drop(['title'], axis = 1)"
   ]
  },
  {
   "cell_type": "markdown",
   "metadata": {},
   "source": [
    "### brand"
   ]
  },
  {
   "cell_type": "code",
   "execution_count": 59,
   "metadata": {},
   "outputs": [
    {
     "name": "stdout",
     "output_type": "stream",
     "text": [
      "Количество пропусков: 6104,\n",
      "count     841489\n",
      "unique      8866\n",
      "top         KIND\n",
      "freq       22506\n",
      "Name: brand, dtype: object,\n",
      "Распределение:\n",
      "KIND                             22506\n",
      "Bob's Red Mill                   13061\n",
      "Twinings                         11182\n",
      "Planters                         10384\n",
      "Frontier                          6926\n",
      "                                 ...  \n",
      "Country Sweet                        1\n",
      "Factory Card and Party Outlet        1\n",
      "cocomama                             1\n",
      "DELICITALY Pure Italian Food         1\n",
      "LOU'S BONSAI  NURSERY                1\n",
      "Name: brand, Length: 8866, dtype: int64,\n"
     ]
    }
   ],
   "source": [
    "col_info(df.brand)"
   ]
  },
  {
   "cell_type": "markdown",
   "metadata": {},
   "source": [
    "Пропусков относительно не много. 8866 разных производителей. Можно выделить самых известных и сделать для них dummy-переменные, но заметных улучшений для точности модели нет. Тоже удалим."
   ]
  },
  {
   "cell_type": "code",
   "execution_count": 60,
   "metadata": {},
   "outputs": [],
   "source": [
    "df = df.drop(['brand'], axis = 1)"
   ]
  },
  {
   "cell_type": "markdown",
   "metadata": {},
   "source": [
    "### rank"
   ]
  },
  {
   "cell_type": "code",
   "execution_count": 61,
   "metadata": {},
   "outputs": [
    {
     "name": "stdout",
     "output_type": "stream",
     "text": [
      "Количество пропусков: 34598,\n"
     ]
    }
   ],
   "source": [
    "print('Количество пропусков: {},'.format(df['rank'].isnull().sum()))"
   ]
  },
  {
   "cell_type": "markdown",
   "metadata": {},
   "source": [
    "Посмотрим, как выглядят значения"
   ]
  },
  {
   "cell_type": "code",
   "execution_count": 62,
   "metadata": {},
   "outputs": [
    {
     "data": {
      "text/plain": [
       "'19,771inGroceryGourmetFood('"
      ]
     },
     "execution_count": 62,
     "metadata": {},
     "output_type": "execute_result"
    }
   ],
   "source": [
    "df['rank'][1]"
   ]
  },
  {
   "cell_type": "markdown",
   "metadata": {},
   "source": [
    "Приведем значения данного признака к единому числовому виду"
   ]
  },
  {
   "cell_type": "code",
   "execution_count": 63,
   "metadata": {},
   "outputs": [
    {
     "name": "stdout",
     "output_type": "stream",
     "text": [
      "Количество пропусков: 0,\n",
      "count    8.475930e+05\n",
      "mean     6.676660e+05\n",
      "std      2.289290e+06\n",
      "min      4.000000e+00\n",
      "25%      1.094000e+04\n",
      "50%      4.999900e+04\n",
      "75%      1.799160e+05\n",
      "max      9.999999e+06\n",
      "Name: rank, dtype: float64,\n",
      "Распределение:\n",
      "9999999    47163\n",
      "18          7421\n",
      "4575        4733\n",
      "2949        4611\n",
      "142261      4252\n",
      "           ...  \n",
      "1169810        1\n",
      "784450         1\n",
      "293005         1\n",
      "265756         1\n",
      "643797         1\n",
      "Name: rank, Length: 35977, dtype: int64,\n"
     ]
    }
   ],
   "source": [
    "# Приведем все к str\n",
    "df['rank'] = df['rank'].astype('str')\n",
    "# Удалим все значения кроме числовых\n",
    "df['rank'] = df['rank'].apply(lambda x: re.sub('\\D', '', x))\n",
    "# Заменим пропуски на высокий ранг (предположим, что чем ниже ранг, тем лучше)\n",
    "df['rank'] = df['rank'].apply(lambda x: 9999999 if x == '' else x)\n",
    "df['rank'] = df['rank'].astype('float')\n",
    "# Остаются какие-то большие значения, заменим их на высокий ранг\n",
    "df['rank'] = df['rank'].apply(lambda x: 9999999 if x > 9999999 else x)\n",
    "df['rank'] = df['rank'].astype('int32')\n",
    "# Посмотрим на результат\n",
    "col_info(df['rank'])"
   ]
  },
  {
   "cell_type": "markdown",
   "metadata": {},
   "source": [
    "Заменим значения на категории."
   ]
  },
  {
   "cell_type": "code",
   "execution_count": 64,
   "metadata": {},
   "outputs": [],
   "source": [
    "# Создадим 3 категории рангов\n",
    "def cat_rank(x):\n",
    "    if x < 1093: x = 'high'\n",
    "    elif 1093 <= x <= 18000: x = 'middle'\n",
    "    elif 18000 < x: x = 'low'\n",
    "    return x      \n",
    "\n",
    "# Заменим значения в столбце на категории\n",
    "df['rank'] = df['rank'].apply(lambda x: cat_rank(x))"
   ]
  },
  {
   "cell_type": "markdown",
   "metadata": {},
   "source": [
    "### also_view"
   ]
  },
  {
   "cell_type": "code",
   "execution_count": 65,
   "metadata": {},
   "outputs": [
    {
     "data": {
      "text/plain": [
       "['B00AJRKRJS',\n",
       " 'B01NALHAY9',\n",
       " 'B01DGZ2B48',\n",
       " 'B01EZ489AO',\n",
       " 'B01KIIPSOG',\n",
       " 'B075XT4M1G',\n",
       " 'B075Y1KVHM',\n",
       " 'B01LYST8SC',\n",
       " 'B075XZ4MY3',\n",
       " 'B001KWF2O6',\n",
       " 'B01LXTON7K',\n",
       " 'B07DFS9SSF',\n",
       " 'B07DFSWXS9',\n",
       " 'B01DH795LM',\n",
       " 'B01DPS5VKW',\n",
       " 'B01EYW2LCE',\n",
       " 'B00032CVSE',\n",
       " 'B07DHRRLHL',\n",
       " 'B075Y1WJH6',\n",
       " 'B00WKF7X4O',\n",
       " 'B01IFOCMZS',\n",
       " 'B00J83KCA8',\n",
       " 'B01MD0T6G0',\n",
       " 'B01KIK4J0I',\n",
       " 'B01KIK7EYG',\n",
       " 'B001TA9MDQ',\n",
       " 'B01NBWNGFO',\n",
       " 'B01F4IDZ6S',\n",
       " 'B0005YX1BG',\n",
       " 'B01NAHBW9H',\n",
       " 'B00061DFEQ',\n",
       " 'B07GC32M71',\n",
       " 'B01DPSC5PG',\n",
       " 'B01K57JCRY',\n",
       " 'B00WVOD5QY',\n",
       " 'B0014CVT6C',\n",
       " 'B0002HAAOW',\n",
       " 'B00A48YIFQ',\n",
       " 'B071NLVF3B',\n",
       " 'B07DM356FK',\n",
       " 'B000WR4SJ0',\n",
       " 'B00F8Z4Z3K',\n",
       " 'B004E5KH28',\n",
       " 'B07CMDRYRW',\n",
       " 'B000QJSACU',\n",
       " 'B000WS1DT2',\n",
       " 'B07DGGRSY3',\n",
       " 'B07DL1BRHY',\n",
       " 'B0097UW3EK',\n",
       " 'B005SIFI6K',\n",
       " 'B00W4QQQXS',\n",
       " 'B01I3V0DFO',\n",
       " 'B01MTC2PQ7',\n",
       " 'B002N3XZ6I']"
      ]
     },
     "execution_count": 65,
     "metadata": {},
     "output_type": "execute_result"
    }
   ],
   "source": [
    "df.also_view[5]"
   ]
  },
  {
   "cell_type": "markdown",
   "metadata": {},
   "source": [
    "Видим список других товаров в виде asin."
   ]
  },
  {
   "cell_type": "code",
   "execution_count": 66,
   "metadata": {},
   "outputs": [],
   "source": [
    "df = df.drop(['also_view'], axis = 1)"
   ]
  },
  {
   "cell_type": "markdown",
   "metadata": {},
   "source": [
    "### main_cat"
   ]
  },
  {
   "cell_type": "code",
   "execution_count": 67,
   "metadata": {},
   "outputs": [
    {
     "name": "stdout",
     "output_type": "stream",
     "text": [
      "Количество пропусков: 955,\n",
      "count      846638\n",
      "unique         17\n",
      "top       Grocery\n",
      "freq       802613\n",
      "Name: main_cat, dtype: object,\n",
      "Распределение:\n",
      "Grocery                      802613\n",
      "Health & Personal Care        31705\n",
      "Amazon Home                    7383\n",
      "All Beauty                     1522\n",
      "Sports & Outdoors              1322\n",
      "Industrial & Scientific         902\n",
      "Office Products                 631\n",
      "Toys & Games                    304\n",
      "Pet Supplies                    125\n",
      "Tools & Home Improvement         53\n",
      "Baby                             34\n",
      "Arts, Crafts & Sewing            19\n",
      "Home Audio & Theater              9\n",
      "Camera & Photo                    8\n",
      "Software                          3\n",
      "Musical Instruments               3\n",
      "Cell Phones & Accessories         2\n",
      "Name: main_cat, dtype: int64,\n"
     ]
    }
   ],
   "source": [
    "col_info(df.main_cat)"
   ]
  },
  {
   "cell_type": "markdown",
   "metadata": {},
   "source": [
    "Избавимся от пропусков."
   ]
  },
  {
   "cell_type": "code",
   "execution_count": 68,
   "metadata": {},
   "outputs": [],
   "source": [
    "# Заменим пропуски на категорию \"Other\"\n",
    "df.main_cat = df.main_cat.fillna('Other')"
   ]
  },
  {
   "cell_type": "markdown",
   "metadata": {},
   "source": [
    "### price"
   ]
  },
  {
   "cell_type": "code",
   "execution_count": 69,
   "metadata": {},
   "outputs": [
    {
     "name": "stdout",
     "output_type": "stream",
     "text": [
      "Количество пропусков: 258621,\n",
      "count     588972\n",
      "unique      4601\n",
      "top       $14.99\n",
      "freq       14241\n",
      "Name: price, dtype: object,\n",
      "Распределение:\n",
      "$14.99              14241\n",
      "$13.67              10660\n",
      "$19.99               9043\n",
      "$14.79               5632\n",
      "$15.53               5561\n",
      "                    ...  \n",
      "$19.31                  2\n",
      "$35.16                  1\n",
      "$44.14                  1\n",
      "$6.93                   1\n",
      "$19.99 - $295.00        1\n",
      "Name: price, Length: 4601, dtype: int64,\n"
     ]
    }
   ],
   "source": [
    "col_info(df.price)"
   ]
  },
  {
   "cell_type": "markdown",
   "metadata": {},
   "source": [
    "У нас довольно много пропусков и есть диапозоны цен, например 19.99-295.00. Заменим такие значения и пропуски на среднее значение. Чтобы найти среднее значение, создадим вспомогательный датасет, удалим в нем пропуски в столбце price и посчитаем среднее."
   ]
  },
  {
   "cell_type": "code",
   "execution_count": 70,
   "metadata": {},
   "outputs": [
    {
     "name": "stdout",
     "output_type": "stream",
     "text": [
      "Количество пропусков: 0,\n",
      "count    585001.000000\n",
      "mean       2069.952270\n",
      "std        1754.135664\n",
      "min           1.000000\n",
      "25%        1155.000000\n",
      "50%        1691.000000\n",
      "75%        2599.000000\n",
      "max       99900.000000\n",
      "Name: price, dtype: float64,\n",
      "Распределение:\n",
      "1499.0    14241\n",
      "1367.0    10660\n",
      "1999.0     9043\n",
      "1479.0     5632\n",
      "1553.0     5561\n",
      "          ...  \n",
      "2504.0        2\n",
      "2848.0        2\n",
      "693.0         1\n",
      "4414.0        1\n",
      "3516.0        1\n",
      "Name: price, Length: 4527, dtype: int64,\n"
     ]
    }
   ],
   "source": [
    "# Скопируем датасет\n",
    "df_price = df.copy()\n",
    "# Избавимся от пропусков\n",
    "df_price = df_price[df_price.price.isna() == False]\n",
    "df_price = df_price[df_price.price != '']\n",
    "# Приведем все к str\n",
    "df_price['price'] = df_price['price'].astype('str')\n",
    "# Удалим все значения кроме числовых\n",
    "df_price['price'] = df_price['price'].apply(lambda x: re.sub('\\D', '', x))\n",
    "# Переведем во float\n",
    "df_price['price'] = df_price['price'].astype('float')\n",
    "# Удалим все, что дороже 9999$ т.к. это, скорее всего, ошибка\n",
    "df_price = df_price[df_price.price < 999999]\n",
    "# Посмотрим на результат\n",
    "col_info(df_price.price)"
   ]
  },
  {
   "cell_type": "markdown",
   "metadata": {},
   "source": [
    "На вид все ОК. Теперь мы можем сделать похожую процедуру для основного датасета, заменив нулевые значения и диапазоны цен на среднюю цену."
   ]
  },
  {
   "cell_type": "code",
   "execution_count": 71,
   "metadata": {},
   "outputs": [
    {
     "name": "stdout",
     "output_type": "stream",
     "text": [
      "Количество пропусков: 0,\n",
      "count    847593.000000\n",
      "mean       2069.967057\n",
      "std        1457.295712\n",
      "min           1.000000\n",
      "25%        1398.000000\n",
      "50%        2070.000000\n",
      "75%        2112.000000\n",
      "max       99900.000000\n",
      "Name: price, dtype: float64,\n",
      "Распределение:\n",
      "2070    262805\n",
      "1499     14241\n",
      "1367     10660\n",
      "1999      9043\n",
      "1479      5632\n",
      "         ...  \n",
      "3552         2\n",
      "4906         2\n",
      "693          1\n",
      "3516         1\n",
      "4414         1\n",
      "Name: price, Length: 4527, dtype: int64,\n"
     ]
    }
   ],
   "source": [
    "# Чтобы каждый раз не считать среднее значение, используем переменную\n",
    "df_price_mean = df_price.price.mean()\n",
    "# Приведем все к str\n",
    "df['price'] = df['price'].astype('str')\n",
    "# Удалим все значения кроме числовых\n",
    "df['price'] = df['price'].apply(lambda x: re.sub('\\D', '', x))\n",
    "# Заменим пропуски на среднее значение\n",
    "df['price'] = df['price'].apply(lambda x: round(df_price_mean, 0) if x == '' else x)\n",
    "# Приведем к float\n",
    "df['price'] = df['price'].astype('float')\n",
    "# Заменим большие значения на средние\n",
    "df['price'] = df['price'].apply(lambda x: round(df_price_mean, 0) if x > 999999 else x)\n",
    "# Приведем к int32\n",
    "df['price'] = df['price'].astype('int32')\n",
    "# Смотрим на результат\n",
    "col_info(df.price)"
   ]
  },
  {
   "cell_type": "markdown",
   "metadata": {},
   "source": [
    "Поделим цены на 3 категории"
   ]
  },
  {
   "cell_type": "code",
   "execution_count": 72,
   "metadata": {},
   "outputs": [],
   "source": [
    "def cat_price(x):\n",
    "    if x < 1397: x = 'low'\n",
    "    elif 1397 <= x <= 2099: x = 'middle'\n",
    "    elif 2099 < x: x = 'high'\n",
    "    return x      \n",
    "\n",
    "df['price'] = df['price'].apply(lambda x: cat_price(x))"
   ]
  },
  {
   "cell_type": "markdown",
   "metadata": {},
   "source": [
    "### also_buy"
   ]
  },
  {
   "cell_type": "code",
   "execution_count": 73,
   "metadata": {},
   "outputs": [
    {
     "name": "stdout",
     "output_type": "stream",
     "text": [
      "['B01DGZ2B48', 'B01EZ489AO', 'B01DH795LM', 'B01EYW2LCE', 'B01IFOCMZS', 'B075XZ4MY3', 'B075Y1KVHM', 'B07DHRRLHL', 'B01DPS5VKW', 'B01LYST8SC', 'B01KIIPSOG', 'B075Y1WJH6', 'B01LXTON7K', 'B07DGGRSY3', 'B07DKGN9FL', 'B01KIK16OA', 'B07GC32M71', 'B01DPSC5PG', 'B01MTC2PQ7', '162860347X', '1328915093', 'B01KIK7EYG', 'B01N5SCAX3', 'B00AJRKRJS', 'B071WY281Q', 'B00VXQGY64', 'B00K6JUG4K', '1607749440', 'B00ZAD36ZS', 'B01K57JCRY', 'B01DQ6Q3D2', 'B01ENL3Q02', '132853104X', 'B07DL1BRHY', 'B07G4FRC1B', 'B07G4CRGFY', 'B001KWF2O6', 'B078XPFWL6', 'B00VXQGY1Y', '1328557472', 'B07DXZT7QH', '1628602945', 'B01NGWIE9Z', 'B00R4XBGJK', 'B019QR8MQQ', 'B01GIW8STI', 'B00KRFLH5U', 'B00ZY4NFZ4', 'B000FK8HJQ', 'B07JMK2DS2', 'B00VQO4YJC', 'B07DFSWXS9', 'B01MD0T6G0', 'B072J8YZXK', 'B07985TFZ4', 'B00NLR1PX0', 'B077RMF6CP', 'B076ZRP5TJ', '1624146015', 'B074WWNNHV', 'B01CYW9ZI4', 'B078HC2DDQ', 'B00V7COK0G', 'B014Q7OGZM', 'B06Y1DNZWD', 'B073XT9P21', '1328839230', 'B01NALHAY9', 'B074W67P11', 'B01D213Y6U', 'B071YNVDCB', 'B071X4S9ZS', 'B06ZZMWCF5', 'B071YRQH2M', 'B072J4XBKK', 'B00WHDC2Z4', 'B01ENITUA0', 'B00NLQXXDQ', 'B072126PMX', 'B00T2ZYAWI', 'B01KIK4J0I', 'B075XT4M1G', 'B07G4FWMJF', 'B07J6S95G2', 'B07D6J6B11']\n"
     ]
    }
   ],
   "source": [
    "print(df.also_buy[5])"
   ]
  },
  {
   "cell_type": "markdown",
   "metadata": {},
   "source": [
    "аналогично also_view."
   ]
  },
  {
   "cell_type": "code",
   "execution_count": 74,
   "metadata": {},
   "outputs": [],
   "source": [
    "df = df.drop(['also_buy'], axis = 1)"
   ]
  },
  {
   "cell_type": "markdown",
   "metadata": {},
   "source": [
    "### image_y"
   ]
  },
  {
   "cell_type": "code",
   "execution_count": 75,
   "metadata": {},
   "outputs": [
    {
     "data": {
      "text/plain": [
       "['https://images-na.ssl-images-amazon.com/images/I/51gJ78gwiuL._SS40_.jpg',\n",
       " 'https://images-na.ssl-images-amazon.com/images/I/51Atu6eGDGL._SS40_.jpg',\n",
       " 'https://images-na.ssl-images-amazon.com/images/I/51IVforY1EL._SS40_.jpg',\n",
       " 'https://images-na.ssl-images-amazon.com/images/I/51TVXVBrfbL._SS40_.jpg',\n",
       " 'https://images-na.ssl-images-amazon.com/images/I/51Prc170IBL._SS40_.jpg',\n",
       " 'https://images-na.ssl-images-amazon.com/images/I/316wiuQhBFL._SS40_.jpg']"
      ]
     },
     "execution_count": 75,
     "metadata": {},
     "output_type": "execute_result"
    }
   ],
   "source": [
    "df.image_y[0]"
   ]
  },
  {
   "cell_type": "markdown",
   "metadata": {},
   "source": [
    "Картинки - удаляем\n",
    "\n"
   ]
  },
  {
   "cell_type": "code",
   "execution_count": 76,
   "metadata": {},
   "outputs": [],
   "source": [
    "df = df.drop(['image_y'], axis = 1)"
   ]
  },
  {
   "cell_type": "markdown",
   "metadata": {},
   "source": [
    "### date"
   ]
  },
  {
   "cell_type": "code",
   "execution_count": 77,
   "metadata": {},
   "outputs": [
    {
     "name": "stdout",
     "output_type": "stream",
     "text": [
      "Количество пропусков: 835506,\n",
      "count               12087\n",
      "unique                417\n",
      "top       January 1, 2006\n",
      "freq                  561\n",
      "Name: date, dtype: object,\n",
      "Распределение:\n",
      "January 1, 2006      561\n",
      "May 5, 2003          428\n",
      "October 29, 2003     424\n",
      "January 7, 2008      372\n",
      "March 10, 2004       294\n",
      "                    ... \n",
      "December 22, 2007      2\n",
      "June 15, 2014          2\n",
      "January 18, 2008       1\n",
      "February 21, 2015      1\n",
      "February 13, 2008      1\n",
      "Name: date, Length: 417, dtype: int64,\n"
     ]
    }
   ],
   "source": [
    "col_info(df.date)"
   ]
  },
  {
   "cell_type": "markdown",
   "metadata": {},
   "source": [
    "Очень много пропусков, удаляем"
   ]
  },
  {
   "cell_type": "code",
   "execution_count": 78,
   "metadata": {},
   "outputs": [],
   "source": [
    "df = df.drop(['date'], axis = 1)"
   ]
  },
  {
   "cell_type": "markdown",
   "metadata": {},
   "source": [
    "### feature"
   ]
  },
  {
   "cell_type": "code",
   "execution_count": 79,
   "metadata": {},
   "outputs": [
    {
     "name": "stdout",
     "output_type": "stream",
     "text": [
      "Количество пропусков: 704859,\n"
     ]
    }
   ],
   "source": [
    "print('Количество пропусков: {},'.format(df.feature.isnull().sum()))"
   ]
  },
  {
   "cell_type": "markdown",
   "metadata": {},
   "source": [
    "Очень много пропусков, удаляем"
   ]
  },
  {
   "cell_type": "code",
   "execution_count": 80,
   "metadata": {},
   "outputs": [],
   "source": [
    "df = df.drop(['feature'], axis = 1)"
   ]
  },
  {
   "cell_type": "markdown",
   "metadata": {},
   "source": [
    "### details"
   ]
  },
  {
   "cell_type": "code",
   "execution_count": 81,
   "metadata": {},
   "outputs": [
    {
     "data": {
      "text/plain": [
       "'\\n      <div class=\"content\">\\n\\n\\n\\n\\n\\n\\n<ul>\\n\\n\\n\\n\\n\\n\\n\\n\\n\\n\\n\\n\\n\\n                                                                                \\n\\n\\n    <li><b>\\n    Product Dimensions: \\n    </b>\\n    1.8 x 4.5 x 1.8 inches ; 7.4 ounces\\n    </li>\\n\\n\\n\\n\\n\\n\\n\\n\\n<li><b>Shipping Weight:</b> 8 ounces (<a href=\"/gp/help/seller/shipping.html/ref=dp_pd_shipping?ie=UTF8&amp;asin=B01CPNIEQG&amp;seller=ATVPDKIKX0DER\">View shipping rates and policies</a>)</li>\\n\\n\\n\\n\\n\\n\\n\\n\\n\\n\\n\\n\\n<li><b>Domestic Shipping: </b>Currently, item can be shipped only within the U.S. and to APO/FPO addresses. For APO/FPO shipments, please check with the manufacturer regarding warranty and support issues.</li>\\n<li><b>International Shipping: </b>This item can be shipped to select countries outside of the U.S.  <a href=\"/gp/help/customer/display.html?ie=UTF8&nodeId=201117930&pop-up=1\" target=\"InternationalShippingDetails\" onclick=\"return amz_js_PopWin(\\'/gp/help/customer/display.html?ie=UTF8&nodeId=201117930&pop-up=1\\',\\'InternationalShippingDetails\\',\\'width=550,height=550,resizable=1,scrollbars=1,toolbar=0,status=0\\')\">Learn More</a></li>\\n\\n\\n\\n\\n\\n\\n\\n\\n<li><b>ASIN: </b>B01CPNIEQG</li>\\n\\n\\n\\n\\n\\n\\n  <li><b>UPC:</b> 016745737378</li>\\n\\n\\n\\n\\n\\n<li>\\n\\n\\n\\n<b>California residents:</b>  <a href=\"/exec/obidos/tg/browse/-/3234041/\">Click here</a> for Proposition 65 warning.\\n</li>\\n\\n\\n\\n\\n\\n\\n\\n\\n<li><b>Item model number:</b> Adobo Seasoning</li>\\n\\n\\n\\n\\n\\n\\n\\n\\n\\n\\n\\n\\n\\n\\n\\n\\n\\n\\n\\n\\n\\n\\n\\n\\n\\n\\n\\n\\n\\n\\n\\n\\n\\n\\n\\n\\n\\n\\n\\n\\n\\n\\n  \\n  \\n\\n\\n\\n\\n\\n\\n\\n\\n\\n\\n\\n\\n\\n\\n\\n\\n\\n\\n\\n\\n\\n\\n\\n\\n\\n\\n\\n<li><b>Average Customer Review:</b> \\n\\n\\n\\n\\n<span class=\"dpProductDetailB01CPNIEQG\">\\n  <span class=\"a-declarative\" data-action=\"a-popover\" data-a-popover=\"{&quot;closeButton&quot;:&quot;false&quot;,&quot;max-width&quot;:&quot;700&quot;,&quot;position&quot;:&quot;triggerBottom&quot;,&quot;url&quot;:&quot;/review/widgets/average-customer-review/popover/ref=acr_dpproductdetail_popover?ie=UTF8&amp;asin=B01CPNIEQG&amp;contextId=dpProductDetail&amp;ref=acr_dpproductdetail_popover&quot;}\">\\n    <a href=\"javascript:void(0)\" class=\"a-popover-trigger a-declarative\">\\n      <a class=\"a-link-normal a-text-normal\" href=\"https://www.amazon.com/product-reviews/B01CPNIEQG/ref=acr_dpproductdetail_text?ie=UTF8&showViewpoints=1\">\\n        <i class=\"a-icon a-icon-star a-star-4-5\"><span class=\"a-icon-alt\">4.6 out of 5 stars</span></i>\\n      </a>\\n    <i class=\"a-icon a-icon-popover\"></i></a>\\n  </span>\\n  <span class=\"a-letter-space\"></span>\\n  <span class=\"a-size-small\">\\n    <a class=\"a-link-normal\" href=\"https://www.amazon.com/product-reviews/B01CPNIEQG/ref=acr_dpproductdetail_text?ie=UTF8&showViewpoints=1\">\\n      57 customer reviews\\n    </a>\\n  </span>\\n</span>\\n\\n\\n\\n\\n\\n\\n\\n\\n\\n\\n</li>\\n\\n\\n\\n\\n\\n\\n\\n\\n\\n\\n\\n\\n\\n\\n\\n\\n\\n\\n\\n\\n\\n\\n\\n\\n\\n\\n\\n\\n<li id=\"SalesRank\">\\n<b>Amazon Best Sellers Rank:</b> \\n\\n\\n\\n\\n\\n\\n\\n\\n\\n\\n\\n\\n\\n\\n\\n\\n\\n\\n\\n\\n\\n\\n#19,771 in Grocery & Gourmet Food (<a href=\"https://www.amazon.com/gp/bestsellers/grocery/ref=pd_dp_ts_grocery_1\">See Top 100 in Grocery & Gourmet Food</a>)\\n \\n\\n\\n\\n\\n\\n\\n\\n\\n\\n\\n\\n\\n\\n\\n\\n\\n\\n\\n\\n\\n\\n\\n\\n\\n\\n\\n\\n<style type=\"text/css\">\\n.zg_hrsr { margin: 0; padding: 0; list-style-type: none; }\\n.zg_hrsr_item { margin: 0 0 0 10px; }\\n.zg_hrsr_rank { display: inline-block; width: 80px; text-align: right; }\\n</style>\\n\\n<ul class=\"zg_hrsr\">\\n    <li class=\"zg_hrsr_item\">\\n    <span class=\"zg_hrsr_rank\">#3</span>\\n    <span class=\"zg_hrsr_ladder\">in&nbsp;<a href=\"https://www.amazon.com/gp/bestsellers/grocery/ref=pd_zg_hrsr_grocery_1_1\">Grocery & Gourmet Food</a> &gt; <a href=\"https://www.amazon.com/gp/bestsellers/grocery/16310281/ref=pd_zg_hrsr_grocery_1_2\">Herbs, Spices & Seasonings</a> &gt; <a href=\"https://www.amazon.com/gp/bestsellers/grocery/724716011/ref=pd_zg_hrsr_grocery_1_3\">Mixed Spices & Seasonings</a> &gt; <b><a href=\"https://www.amazon.com/gp/bestsellers/grocery/6493899011/ref=pd_zg_hrsr_grocery_1_4_last\">Adobo Seasoning</a></b></span>\\n    </li>\\n</ul>\\n\\n</li>\\n\\n\\n\\n\\n\\n\\t\\t\\n\\t\\n\\t\\t\\n\\t\\n\\t\\t\\n\\t\\n\\t\\t\\t\\n\\t\\t\\t\\n\\t\\t\\t\\n     \\t    \\n            \\n            \\n            \\n            \\n            \\n            <P><div class=\"bucket\">    <script>\\n    P.now(\"A\",\"tellMeMoreLinkData\").execute(function(A,tellMeMoreLinkData){\\n        if(typeof tellMeMoreLinkData !== \\'undefined\\'){\\n            A.state(\\'lowerPricePopoverData\\',{\"trigger\":\"ns_E34XTJ9N9C8SXWRPM6NK_3346_1_hmd_pricing_feedback_trigger_product-detail\",\"destination\":\"/gp/pdp/pf/pricingFeedbackForm.html/ref=_pfdpb?ie=UTF8&%2AVersion%2A=1&%2Aentries%2A=0&ASIN=B01CPNIEQG&PREFIX=ns_E34XTJ9N9C8SXWRPM6NK_3346_2_&WDG=grocery_display_on_website&dpRequestId=E34XTJ9N9C8SXWRPM6NK&from=product-detail&storeID=groceryencodeURI(\\'&originalURI=\\' + window.location.pathname)\",\"url\":\"/gp/pdp/pf/pricingFeedbackForm.html/ref=_pfdpb?ie=UTF8&%2AVersion%2A=1&%2Aentries%2A=0&ASIN=B01CPNIEQG&PREFIX=ns_E34XTJ9N9C8SXWRPM6NK_3346_2_&WDG=grocery_display_on_website&dpRequestId=E34XTJ9N9C8SXWRPM6NK&from=product-detail&storeID=grocery\",\"nsPrefix\":\"ns_E34XTJ9N9C8SXWRPM6NK_3346_2_\",\"path\":\"encodeURI(\\'&originalURI=\\' + window.location.pathname)\",\"title\":\"Tell Us About a Lower Price\"});\\n            return {\\n                   key:\"pricing-fbW\",\\n                   method: function(){\\n                                     return {\"trigger\":\"ns_E34XTJ9N9C8SXWRPM6NK_3346_1_hmd_pricing_feedback_trigger_product-detail\",\"destination\":\"/gp/pdp/pf/pricingFeedbackForm.html/ref=_pfdpb?ie=UTF8&%2AVersion%2A=1&%2Aentries%2A=0&ASIN=B01CPNIEQG&PREFIX=ns_E34XTJ9N9C8SXWRPM6NK_3346_2_&WDG=grocery_display_on_website&dpRequestId=E34XTJ9N9C8SXWRPM6NK&from=product-detail&storeID=groceryencodeURI(\\'&originalURI=\\' + window.location.pathname)\",\"url\":\"/gp/pdp/pf/pricingFeedbackForm.html/ref=_pfdpb?ie=UTF8&%2AVersion%2A=1&%2Aentries%2A=0&ASIN=B01CPNIEQG&PREFIX=ns_E34XTJ9N9C8SXWRPM6NK_3346_2_&WDG=grocery_display_on_website&dpRequestId=E34XTJ9N9C8SXWRPM6NK&from=product-detail&storeID=grocery\",\"nsPrefix\":\"ns_E34XTJ9N9C8SXWRPM6NK_3346_2_\",\"path\":\"encodeURI(\\'&originalURI=\\' + window.location.pathname)\",\"title\":\"Tell Us About a Lower Price\"};\\n                                     }\\n                   }\\n        }\\n        else{\\n                P.when(\"A\").register(\"tellMeMoreLinkData\",function(A){\\n                    A.state(\\'lowerPricePopoverData\\',{\"trigger\":\"ns_E34XTJ9N9C8SXWRPM6NK_3346_1_hmd_pricing_feedback_trigger_product-detail\",\"destination\":\"/gp/pdp/pf/pricingFeedbackForm.html/ref=_pfdpb?ie=UTF8&%2AVersion%2A=1&%2Aentries%2A=0&ASIN=B01CPNIEQG&PREFIX=ns_E34XTJ9N9C8SXWRPM6NK_3346_2_&WDG=grocery_display_on_website&dpRequestId=E34XTJ9N9C8SXWRPM6NK&from=product-detail&storeID=groceryencodeURI(\\'&originalURI=\\' + window.location.pathname)\",\"url\":\"/gp/pdp/pf/pricingFeedbackForm.html/ref=_pfdpb?ie=UTF8&%2AVersion%2A=1&%2Aentries%2A=0&ASIN=B01CPNIEQG&PREFIX=ns_E34XTJ9N9C8SXWRPM6NK_3346_2_&WDG=grocery_display_on_website&dpRequestId=E34XTJ9N9C8SXWRPM6NK&from=product-detail&storeID=grocery\",\"nsPrefix\":\"ns_E34XTJ9N9C8SXWRPM6NK_3346_2_\",\"path\":\"encodeURI(\\'&originalURI=\\' + window.location.pathname)\",\"title\":\"Tell Us About a Lower Price\"});\\n                    return {\\n                           key:\"pricing-fbW\",\\n                           method: function(){\\n                                             return {\"trigger\":\"ns_E34XTJ9N9C8SXWRPM6NK_3346_1_hmd_pricing_feedback_trigger_product-detail\",\"destination\":\"/gp/pdp/pf/pricingFeedbackForm.html/ref=_pfdpb?ie=UTF8&%2AVersion%2A=1&%2Aentries%2A=0&ASIN=B01CPNIEQG&PREFIX=ns_E34XTJ9N9C8SXWRPM6NK_3346_2_&WDG=grocery_display_on_website&dpRequestId=E34XTJ9N9C8SXWRPM6NK&from=product-detail&storeID=groceryencodeURI(\\'&originalURI=\\' + window.location.pathname)\",\"url\":\"/gp/pdp/pf/pricingFeedbackForm.html/ref=_pfdpb?ie=UTF8&%2AVersion%2A=1&%2Aentries%2A=0&ASIN=B01CPNIEQG&PREFIX=ns_E34XTJ9N9C8SXWRPM6NK_3346_2_&WDG=grocery_display_on_website&dpRequestId=E34XTJ9N9C8SXWRPM6NK&from=product-detail&storeID=grocery\",\"nsPrefix\":\"ns_E34XTJ9N9C8SXWRPM6NK_3346_2_\",\"path\":\"encodeURI(\\'&originalURI=\\' + window.location.pathname)\",\"title\":\"Tell Us About a Lower Price\"};\\n                                             }\\n                           }\\n\\t\\t\\t    });\\n            }\\n    });\\n    </script>\\nWould you like to <b><a href=\"#\" id=\"ns_E34XTJ9N9C8SXWRPM6NK_3346_1_hmd_pricing_feedback_trigger_product-detail\">tell us about a lower price</a></b>?</div></P>\\n\\n\\n\\n</ul>\\n</div>\\n    '"
      ]
     },
     "execution_count": 81,
     "metadata": {},
     "output_type": "execute_result"
    }
   ],
   "source": [
    "df.details[5]"
   ]
  },
  {
   "cell_type": "markdown",
   "metadata": {},
   "source": [
    "Похоже на информацию, собранную с других колонок. Удалим."
   ]
  },
  {
   "cell_type": "code",
   "execution_count": 82,
   "metadata": {},
   "outputs": [],
   "source": [
    "df = df.drop(['details'], axis = 1)"
   ]
  },
  {
   "cell_type": "markdown",
   "metadata": {},
   "source": [
    "### similar_item"
   ]
  },
  {
   "cell_type": "code",
   "execution_count": 83,
   "metadata": {},
   "outputs": [
    {
     "name": "stdout",
     "output_type": "stream",
     "text": [
      "Количество пропусков: 846455,\n"
     ]
    }
   ],
   "source": [
    "print('Количество пропусков: {},'.format(df.similar_item.isnull().sum()))"
   ]
  },
  {
   "cell_type": "markdown",
   "metadata": {},
   "source": [
    "Много пропусков. Удалим."
   ]
  },
  {
   "cell_type": "code",
   "execution_count": 84,
   "metadata": {},
   "outputs": [],
   "source": [
    "df = df.drop(['similar_item'], axis = 1)"
   ]
  },
  {
   "cell_type": "markdown",
   "metadata": {},
   "source": [
    "### tech1"
   ]
  },
  {
   "cell_type": "code",
   "execution_count": 85,
   "metadata": {},
   "outputs": [
    {
     "name": "stdout",
     "output_type": "stream",
     "text": [
      "Количество пропусков: 843221,\n"
     ]
    }
   ],
   "source": [
    "print('Количество пропусков: {},'.format(df.tech1.isnull().sum()))"
   ]
  },
  {
   "cell_type": "markdown",
   "metadata": {},
   "source": [
    "Много пропусков. Удалим."
   ]
  },
  {
   "cell_type": "code",
   "execution_count": 86,
   "metadata": {},
   "outputs": [],
   "source": [
    "df = df.drop(['tech1'], axis = 1)"
   ]
  },
  {
   "cell_type": "markdown",
   "metadata": {},
   "source": [
    "### fit"
   ]
  },
  {
   "cell_type": "code",
   "execution_count": 87,
   "metadata": {},
   "outputs": [
    {
     "name": "stdout",
     "output_type": "stream",
     "text": [
      "Количество пропусков: 847593,\n",
      "count       0\n",
      "unique      0\n",
      "top       NaN\n",
      "freq      NaN\n",
      "Name: fit, dtype: object,\n",
      "Распределение:\n",
      "Series([], Name: fit, dtype: int64),\n"
     ]
    }
   ],
   "source": [
    "col_info(df.fit)"
   ]
  },
  {
   "cell_type": "code",
   "execution_count": 88,
   "metadata": {},
   "outputs": [],
   "source": [
    "df = df.drop(['fit'], axis = 1)"
   ]
  },
  {
   "cell_type": "code",
   "execution_count": null,
   "metadata": {},
   "outputs": [],
   "source": [
    "df.columns"
   ]
  },
  {
   "cell_type": "markdown",
   "metadata": {},
   "source": [
    "Мы видим, что осталось обработать 10 категориальных признаков, из которых\n",
    "\n",
    "3 шт. (userid, itemid, rating) мы не трогаем признак overall отсутствует в тестовом датасете. Остальные 6 verified, unixReviewTime, vote, rank, main_cat, price."
   ]
  },
  {
   "cell_type": "markdown",
   "metadata": {},
   "source": [
    "## Анализ категориальных признаков"
   ]
  },
  {
   "cell_type": "markdown",
   "metadata": {},
   "source": [
    "Все признаки у нас категориальные и использовать корреляционный анализ не получится. Однако можно посмотреть, различаются ли распределения рейтинга в зависимости от значения этих переменных. Это можно сделать, например, с помощью box-plot или KDE-plot (график показывает плотность распределения переменных)."
   ]
  },
  {
   "cell_type": "code",
   "execution_count": 90,
   "metadata": {},
   "outputs": [
    {
     "data": {
      "image/png": "[encoded data removed]",
      "text/plain": [
       "<Figure size 1008x288 with 1 Axes>"
      ]
     },
     "metadata": {
      "needs_background": "light"
     },
     "output_type": "display_data"
    },
    {
     "data": {
      "image/png": "[encoded data removed]",
      "text/plain": [
       "<Figure size 1008x288 with 1 Axes>"
      ]
     },
     "metadata": {
      "needs_background": "light"
     },
     "output_type": "display_data"
    },
    {
     "data": {
      "image/png": "[encoded data removed]",
      "text/plain": [
       "<Figure size 1008x288 with 1 Axes>"
      ]
     },
     "metadata": {
      "needs_background": "light"
     },
     "output_type": "display_data"
    },
    {
     "data": {
      "image/png": "[encoded data removed]",
      "text/plain": [
       "<Figure size 1008x288 with 1 Axes>"
      ]
     },
     "metadata": {
      "needs_background": "light"
     },
     "output_type": "display_data"
    },
    {
     "data": {
      "image/png": "[encoded data removed]",
      "text/plain": [
       "<Figure size 1008x288 with 1 Axes>"
      ]
     },
     "metadata": {
      "needs_background": "light"
     },
     "output_type": "display_data"
    },
    {
     "data": {
      "image/png": "[encoded data removed]",
      "text/plain": [
       "<Figure size 1008x288 with 1 Axes>"
      ]
     },
     "metadata": {
      "needs_background": "light"
     },
     "output_type": "display_data"
    }
   ],
   "source": [
    "for col in ['verified', 'unixReviewTime', 'vote', 'rank', 'main_cat', 'price']:\n",
    "    get_boxplot(col)"
   ]
  },
  {
   "cell_type": "markdown",
   "metadata": {},
   "source": [
    "По графикам сильных различий не видно. Однако графики являются лишь вспомогательным инструментом, настоящую значимость различий может помочь распознать статистика. Проверим, есть ли статистическая разница в распределении оценок по номинативным признакам, с помощью теста Стьюдента. Проверим нулевую гипотезу о том, что распределения оценок пользователей по различным параметрам неразличимы:"
   ]
  },
  {
   "cell_type": "code",
   "execution_count": 91,
   "metadata": {},
   "outputs": [],
   "source": [
    "def get_stat_dif(column):\n",
    "    cols = df.loc[:, column].value_counts().index[:10]\n",
    "    combinations_all = list(combinations(cols, 2))\n",
    "    for comb in combinations_all:\n",
    "        if ttest_ind(df.loc[df.loc[:, column] == comb[0], 'overall'], \n",
    "                        df.loc[df.loc[:, column] == comb[1], 'overall']).pvalue \\\n",
    "            <= 0.05/len(combinations_all): # Учли поправку Бонферони\n",
    "            print('Найдены статистически значимые различия для колонки', column)\n",
    "            break"
   ]
  },
  {
   "cell_type": "code",
   "execution_count": 92,
   "metadata": {},
   "outputs": [
    {
     "name": "stdout",
     "output_type": "stream",
     "text": [
      "Найдены статистически значимые различия для колонки verified\n",
      "Найдены статистически значимые различия для колонки unixReviewTime\n",
      "Найдены статистически значимые различия для колонки vote\n",
      "Найдены статистически значимые различия для колонки rank\n",
      "Найдены статистически значимые различия для колонки main_cat\n",
      "Найдены статистически значимые различия для колонки price\n"
     ]
    }
   ],
   "source": [
    "for col in ['verified', 'unixReviewTime', 'vote', 'rank', 'main_cat', 'price']:\n",
    "    get_stat_dif(col)"
   ]
  },
  {
   "cell_type": "markdown",
   "metadata": {},
   "source": [
    "Как мы видим, распределение оценок серьезно различается по всем шести параметрам."
   ]
  },
  {
   "cell_type": "markdown",
   "metadata": {},
   "source": [
    "Удалим признак overall"
   ]
  },
  {
   "cell_type": "code",
   "execution_count": 93,
   "metadata": {},
   "outputs": [],
   "source": [
    "df = df.drop('overall', axis=1)"
   ]
  },
  {
   "cell_type": "markdown",
   "metadata": {},
   "source": [
    "## Итоги EDA"
   ]
  },
  {
   "cell_type": "markdown",
   "metadata": {},
   "source": [
    "Кратко напишем, что мы сделали с каждым признаком:\n",
    "\n",
    "* overall - оценки от 1 до 5. Нет в тестовой выборке, использовали как вспомогательный признак для анализа.\n",
    "* verified - привели значения к 0 и 1\n",
    "* reviewTime - удалили признак т.к. есть unixReviewTime\n",
    "* asin - удалили признак т.к. не использовали, хотя наверное могли бы для also_buy, also_view, similar_item\n",
    "* reviewerName - удалили т.к. есть userid\n",
    "* reviewText - выдилили самые часто встречающиеся слова, сделали (все подготовили и закомментировали для скорости) dummy-переменные. Но все оказалось зря т.к. признака нет в тестовой выборке\n",
    "* summary - удалили т.к. нет в тестовом датасете\n",
    "* unixReviewTime - сделали 4 категории в зависимости от даты отзыва, сделали dummy-переменные\n",
    "* vote - сделали 3 категории в зависимости от количества голосов, сделали dummy-переменные\n",
    "* style - удалили т.к. больше половины пропусков\n",
    "* image_x - удалили\n",
    "* userid - оставили для модели\n",
    "* itemid - оставили для модели\n",
    "* rating - оставили для модели - целевая переменная\n",
    "* category - выдилили самые часто встречающиеся категории, сделали (все подготовили и закомментировали для скорости) dummy-переменные\n",
    "* description - выдилили самые часто встречающиеся слова, сделали (все подготовили и закомментировали для скорости) dummy-переменные\n",
    "* title - удалили т.к. сильно похож на description\n",
    "* brand - выдилили самых часто встречающихся производителей, сделали (все подготовили и закомментировали для скорости) dummy-переменные\n",
    "* rank - сделали 3 категории в зависимости от ранга, сделали dummy-переменные\n",
    "* also_view - удалили, но наверное можно было бы использовать\n",
    "* main_cat - сделали dummy-переменные\n",
    "* price - сделали 3 категории в зависимости от цены, сделали dummy-переменные\n",
    "* also_buy - удалили, но наверное можно было бы использовать\n",
    "* image_y - удалили\n",
    "* date - удалили\n",
    "* feature - удалили\n",
    "* details - удалили\n",
    "* similar_item - удалили, но наверное можно было бы использовать. Много пропусков.\n",
    "* tech1 - удалили\n",
    "* fit - удалили\n",
    "\n",
    "В итоге получили большое количество признаков, которые можем использовать в нашей модели."
   ]
  },
  {
   "cell_type": "markdown",
   "metadata": {},
   "source": [
    "## Предсказания без использования фичей"
   ]
  },
  {
   "cell_type": "markdown",
   "metadata": {},
   "source": [
    "Разделим тренировочный датасет на тренировочную и тестовую выборки"
   ]
  },
  {
   "cell_type": "code",
   "execution_count": null,
   "metadata": {},
   "outputs": [],
   "source": [
    "train_data, test_data = train_test_split(train,random_state=32, shuffle=True)"
   ]
  },
  {
   "cell_type": "markdown",
   "metadata": {},
   "source": [
    "Чтобы работать с моделями в библиотеке LightFm, нам нужно создать разреженные матрицы. Мы будем хранить данные в формате COO (координатный формат представления данных). Вместо хранения всех значений, которые включают нулевые значения, мы будем хранить только ненулевые значения. В COO данные представлены в виде (строка, столбец, значение)."
   ]
  },
  {
   "cell_type": "code",
   "execution_count": null,
   "metadata": {},
   "outputs": [],
   "source": [
    "ratings_coo = sparse.coo_matrix((train_data['rating'].astype(int),\n",
    "                                 (train_data['userid'],\n",
    "                                  train_data['itemid'],)))"
   ]
  },
  {
   "cell_type": "markdown",
   "metadata": {},
   "source": [
    "Обучим модель"
   ]
  },
  {
   "cell_type": "code",
   "execution_count": null,
   "metadata": {},
   "outputs": [],
   "source": [
    "LR = 0.089\n",
    "NUM_THREADS = 12 #число потоков\n",
    "NUM_COMPONENTS = 160 #число параметров вектора \n",
    "NUM_EPOCHS = 25 #число эпох обучения\n",
    "LEARNING_SCHEDULE = 'adagrad'\n",
    "LOSS_FUNCTION = 'logistic'\n",
    "RANDOM_STATE = 20\n",
    "\n",
    "model = LightFM(\n",
    "    learning_rate=LR,\n",
    "    loss=LOSS_FUNCTION,\n",
    "    no_components=NUM_COMPONENTS,\n",
    "    learning_schedule = LEARNING_SCHEDULE,\n",
    "    random_state = RANDOM_STATE\n",
    ")\n",
    "model = model.fit(\n",
    "    ratings_coo,\n",
    "    epochs=NUM_EPOCHS,\n",
    "    num_threads=NUM_THREADS\n",
    ")"
   ]
  },
  {
   "cell_type": "markdown",
   "metadata": {},
   "source": [
    "Получим предсказания"
   ]
  },
  {
   "cell_type": "markdown",
   "metadata": {},
   "source": [
    "preds = model.predict(test_data.userid.values,\n",
    "                      test_data.itemid.values)"
   ]
  },
  {
   "cell_type": "markdown",
   "metadata": {},
   "source": [
    "Посчитаем метрику roc_auc_score"
   ]
  },
  {
   "cell_type": "code",
   "execution_count": null,
   "metadata": {},
   "outputs": [],
   "source": [
    "sklearn.metrics.roc_auc_score(test_data.rating,preds)"
   ]
  },
  {
   "cell_type": "markdown",
   "metadata": {},
   "source": [
    "В качестве эксперимента создадим ещё одну модель, которую обучим на всем тренировочном датасете"
   ]
  },
  {
   "cell_type": "code",
   "execution_count": null,
   "metadata": {},
   "outputs": [],
   "source": [
    "# Создадим разреженную матрицу\n",
    "ratings_coo2 = sparse.coo_matrix((train['rating'].astype(int),\n",
    "                                 (train['userid'],\n",
    "                                  train['itemid'],)))\n",
    "\n",
    "# Обучим модель\n",
    "model2 = LightFM(\n",
    "    learning_rate=LR,\n",
    "    loss=LOSS_FUNCTION,\n",
    "    no_components=NUM_COMPONENTS,\n",
    "    learning_schedule = LEARNING_SCHEDULE,\n",
    "    random_state = RANDOM_STATE\n",
    ")\n",
    "model2 = model.fit(\n",
    "    ratings_coo2,\n",
    "    epochs=NUM_EPOCHS,\n",
    "    num_threads=NUM_THREADS\n",
    ")"
   ]
  },
  {
   "cell_type": "markdown",
   "metadata": {},
   "source": [
    "## Предсказание на тестовом датасете"
   ]
  },
  {
   "cell_type": "markdown",
   "metadata": {},
   "source": [
    "Получим предсказания на тестовом датасете"
   ]
  },
  {
   "cell_type": "code",
   "execution_count": null,
   "metadata": {},
   "outputs": [],
   "source": [
    "preds = model.predict(test.userid.values,\n",
    "                      test.itemid.values)\n",
    "preds2 = model2.predict(test.userid.values,\n",
    "                      test.itemid.values)"
   ]
  },
  {
   "cell_type": "markdown",
   "metadata": {},
   "source": [
    "Нормализуем предсказания"
   ]
  },
  {
   "cell_type": "code",
   "execution_count": null,
   "metadata": {},
   "outputs": [],
   "source": [
    "normalized_preds = (preds - preds.min())/(preds - preds.min()).max()\n",
    "normalized_preds2 = (preds2 - preds2.min())/(preds2 - preds2.min()).max()"
   ]
  },
  {
   "cell_type": "markdown",
   "metadata": {},
   "source": [
    "## Submission"
   ]
  },
  {
   "cell_type": "code",
   "execution_count": null,
   "metadata": {},
   "outputs": [],
   "source": [
    "submission['rating']= normalized_preds\n",
    "submission.to_csv('submission.csv', index=False)"
   ]
  },
  {
   "cell_type": "markdown",
   "metadata": {},
   "source": [
    "## Итоги работы"
   ]
  },
  {
   "cell_type": "markdown",
   "metadata": {},
   "source": [
    "В результате мы провели подробный анализ данных и познакомились с основными принципами работы рекомендательных систем. Генерация dummy-переменных(в основном список наиболее часто встречающихся значений в текстовых колонках) - не принес заметных улучшений модели, при этом потреблял много ресурсов и времени при работе ноутбука. В итоге для простоты, решила не включать в итоговую версию. Также нам удалось улучшить baseline и получить значение rocauc выше 0.76."
   ]
  },
  {
   "cell_type": "code",
   "execution_count": null,
   "metadata": {},
   "outputs": [],
   "source": []
  }
 ],
 "metadata": {
  "kernelspec": {
   "display_name": "Python 3",
   "language": "python",
   "name": "python3"
  },
  "language_info": {
   "codemirror_mode": {
    "name": "ipython",
    "version": 3
   },
   "file_extension": ".py",
   "mimetype": "text/x-python",
   "name": "python",
   "nbconvert_exporter": "python",
   "pygments_lexer": "ipython3",
   "version": "3.7.0"
  }
 },
 "nbformat": 4,
 "nbformat_minor": 2
}
